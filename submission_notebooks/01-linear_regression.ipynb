{
 "cells": [
  {
   "cell_type": "markdown",
   "metadata": {},
   "source": [
    "# HSCT survival linear regression model\n",
    "\n",
    "## Notebook set-up"
   ]
  },
  {
   "cell_type": "code",
   "execution_count": 1,
   "metadata": {
    "execution": {
     "iopub.status.busy": "2025-02-04T21:59:23.684263Z",
     "iopub.status.idle": "2025-02-04T21:59:23.684741Z",
     "shell.execute_reply": "2025-02-04T21:59:23.684537Z"
    },
    "trusted": true
   },
   "outputs": [],
   "source": [
    "import pandas as pd\n",
    "import matplotlib.pyplot as plt\n",
    "from scipy.stats import uniform\n",
    "from sklearn.impute import KNNImputer\n",
    "from sklearn.preprocessing import OneHotEncoder, MinMaxScaler\n",
    "from sklearn.linear_model import ElasticNet\n",
    "from sklearn.model_selection import KFold, cross_val_score, RandomizedSearchCV"
   ]
  },
  {
   "cell_type": "markdown",
   "metadata": {},
   "source": [
    "## 1. Load data"
   ]
  },
  {
   "cell_type": "code",
   "execution_count": null,
   "metadata": {
    "execution": {
     "iopub.status.busy": "2025-02-04T21:59:23.685832Z",
     "iopub.status.idle": "2025-02-04T21:59:23.686273Z",
     "shell.execute_reply": "2025-02-04T21:59:23.686078Z"
    },
    "trusted": true
   },
   "outputs": [],
   "source": [
    "# Load the datasets\n",
    "dictionary_df=pd.read_csv('/kaggle/input/equity-post-HCT-survival-predictions/data_dictionary.csv')\n",
    "training_df=pd.read_csv('/kaggle/input/equity-post-HCT-survival-predictions/train.csv')\n",
    "testing_df=pd.read_csv('/kaggle/input/equity-post-HCT-survival-predictions/test.csv')\n",
    "\n",
    "# Save the ID and drop\n",
    "testing_ids=testing_df['ID']\n",
    "training_df.drop('ID', axis=1, inplace=True)\n",
    "testing_df.drop('ID', axis=1, inplace=True)\n",
    "\n",
    "# Remove the labels from the training dataframe\n",
    "training_labels=training_df['efs_time']\n",
    "training_df.drop(['efs', 'efs_time'], axis=1, inplace=True)\n",
    "\n",
    "print(f'Training features: {training_df.shape}')\n",
    "print(f'Testing features: {testing_df.shape}')"
   ]
  },
  {
   "cell_type": "markdown",
   "metadata": {},
   "source": [
    "## 2. Split categorical and numerical features"
   ]
  },
  {
   "cell_type": "code",
   "execution_count": null,
   "metadata": {
    "execution": {
     "iopub.status.busy": "2025-02-04T21:59:23.687047Z",
     "iopub.status.idle": "2025-02-04T21:59:23.687502Z",
     "shell.execute_reply": "2025-02-04T21:59:23.687285Z"
    },
    "trusted": true
   },
   "outputs": [],
   "source": [
    "# Get lists of categorical and numerical column names\n",
    "categorical_feature_names=dictionary_df['variable'][dictionary_df['type'] == 'Categorical']\n",
    "numerical_feature_names=dictionary_df['variable'][dictionary_df['type'] == 'Numerical']\n",
    "\n",
    "# Remove the feature column from the column names lists\n",
    "categorical_feature_names=categorical_feature_names[categorical_feature_names != 'efs']\n",
    "numerical_feature_names=numerical_feature_names[numerical_feature_names != 'efs_time']\n",
    "\n",
    "# Split the training and testing dataframes\n",
    "training_categorical_df=training_df[categorical_feature_names].copy()\n",
    "training_numerical_df=training_df[numerical_feature_names].copy()\n",
    "testing_categorical_df=testing_df[categorical_feature_names].copy()\n",
    "testing_numerical_df=testing_df[numerical_feature_names].copy()\n",
    "\n",
    "print(f'Training numerical features: {training_numerical_df.shape}')\n",
    "print(f'Training categorical features: {training_categorical_df.shape}')\n",
    "print(f'Testing numerical features: {testing_numerical_df.shape}')\n",
    "print(f'Testing categorical features: {testing_categorical_df.shape}')"
   ]
  },
  {
   "cell_type": "markdown",
   "metadata": {
    "execution": {
     "iopub.execute_input": "2025-02-04T21:24:00.384368Z",
     "iopub.status.busy": "2025-02-04T21:24:00.384034Z",
     "iopub.status.idle": "2025-02-04T21:24:00.388303Z",
     "shell.execute_reply": "2025-02-04T21:24:00.387137Z",
     "shell.execute_reply.started": "2025-02-04T21:24:00.384341Z"
    }
   },
   "source": [
    "## 3. Handle missing data\n",
    "\n",
    "### 3.1. Categorical features"
   ]
  },
  {
   "cell_type": "code",
   "execution_count": null,
   "metadata": {
    "execution": {
     "iopub.status.busy": "2025-02-04T21:59:23.688592Z",
     "iopub.status.idle": "2025-02-04T21:59:23.688981Z",
     "shell.execute_reply": "2025-02-04T21:59:23.688825Z"
    },
    "trusted": true
   },
   "outputs": [],
   "source": [
    "training_categorical_df.fillna('Missing', inplace=True)\n",
    "testing_categorical_df.fillna('Missing', inplace=True)\n",
    "\n",
    "print(f'Training categorical features: {training_categorical_df.shape}')\n",
    "print(f'Testing categorical features: {testing_categorical_df.shape}')"
   ]
  },
  {
   "cell_type": "markdown",
   "metadata": {
    "execution": {
     "iopub.execute_input": "2025-02-04T20:41:56.192759Z",
     "iopub.status.busy": "2025-02-04T20:41:56.192322Z",
     "iopub.status.idle": "2025-02-04T20:41:56.196867Z",
     "shell.execute_reply": "2025-02-04T20:41:56.195715Z",
     "shell.execute_reply.started": "2025-02-04T20:41:56.192717Z"
    }
   },
   "source": [
    "### 3.2. Numerical features"
   ]
  },
  {
   "cell_type": "code",
   "execution_count": null,
   "metadata": {
    "execution": {
     "iopub.status.busy": "2025-02-04T21:59:23.689664Z",
     "iopub.status.idle": "2025-02-04T21:59:23.690054Z",
     "shell.execute_reply": "2025-02-04T21:59:23.689912Z"
    },
    "trusted": true
   },
   "outputs": [],
   "source": [
    "imputer=KNNImputer(n_neighbors=3, weights='uniform')\n",
    "imputer.fit(training_numerical_df)\n",
    "\n",
    "training_numerical_data=imputer.transform(training_numerical_df)\n",
    "testing_numerical_data=imputer.transform(testing_numerical_df)\n",
    "\n",
    "training_numerical_df=pd.DataFrame(training_numerical_data, columns=training_numerical_df.columns)\n",
    "testing_numerical_df=pd.DataFrame(testing_numerical_data, columns=training_numerical_df.columns)\n",
    "\n",
    "print(f'Training numerical features: {training_numerical_df.shape}')\n",
    "print(f'Testing numerical features: {testing_numerical_df.shape}')"
   ]
  },
  {
   "cell_type": "markdown",
   "metadata": {},
   "source": [
    "## 4. One-hot encode categorical features"
   ]
  },
  {
   "cell_type": "code",
   "execution_count": null,
   "metadata": {
    "execution": {
     "iopub.status.busy": "2025-02-04T21:59:23.691279Z",
     "iopub.status.idle": "2025-02-04T21:59:23.691629Z",
     "shell.execute_reply": "2025-02-04T21:59:23.691495Z"
    },
    "trusted": true
   },
   "outputs": [],
   "source": [
    "encoder=OneHotEncoder(drop='first',sparse_output=False)\n",
    "encoder.fit(training_categorical_df)\n",
    "feature_names=encoder.get_feature_names_out()\n",
    "\n",
    "training_categorical_data=encoder.transform(training_categorical_df)\n",
    "testing_categorical_data=encoder.transform(testing_categorical_df)\n",
    "\n",
    "training_categorical_df=pd.DataFrame(training_categorical_data, columns=feature_names)\n",
    "testing_categorical_df=pd.DataFrame(testing_categorical_data, columns=feature_names)\n",
    "\n",
    "training_features_df=pd.concat(\n",
    "    [\n",
    "        training_numerical_df.reset_index(drop=True), \n",
    "        training_categorical_df.reset_index(drop=True)\n",
    "    ],\n",
    "    axis=1\n",
    ")\n",
    "\n",
    "testing_features_df=pd.concat(\n",
    "    [\n",
    "        testing_numerical_df.reset_index(drop=True), \n",
    "        testing_categorical_df.reset_index(drop=True)\n",
    "    ],\n",
    "    axis=1\n",
    ")\n",
    "\n",
    "print(f'Training features: {training_features_df.shape}')\n",
    "print(f'Testing features: {testing_features_df.shape}')"
   ]
  },
  {
   "cell_type": "markdown",
   "metadata": {},
   "source": [
    "## 5. Fit and evaluate the model"
   ]
  },
  {
   "cell_type": "code",
   "execution_count": null,
   "metadata": {},
   "outputs": [],
   "source": [
    "def cross_val(model, features: pd.DataFrame, labels: pd.Series) -> list[float]:\n",
    "    '''Reusable helper function to run cross-validation on a model. Takes model,\n",
    "    Pandas data frame of features and Pandas data series of labels. Returns \n",
    "    list of cross-validation fold accuracy scores as percents.'''\n",
    "\n",
    "    # Define the cross-validation strategy\n",
    "    cross_validation=KFold(n_splits=7, shuffle=True, random_state=315)\n",
    "\n",
    "    # Run the cross-validation, collecting the scores\n",
    "    scores=cross_val_score(\n",
    "        model,\n",
    "        features,\n",
    "        labels,\n",
    "        cv=cross_validation,\n",
    "        n_jobs=-1,\n",
    "        scoring='neg_root_mean_squared_error'\n",
    "    )\n",
    "\n",
    "    # Print mean and standard deviation of the scores\n",
    "    print(f'Cross validation RMSE {-scores.mean():.2f} +/- {scores.std():.2f}')\n",
    "\n",
    "    # Return the scores\n",
    "    return scores"
   ]
  },
  {
   "cell_type": "code",
   "execution_count": null,
   "metadata": {
    "execution": {
     "iopub.status.busy": "2025-02-04T21:59:23.693634Z",
     "iopub.status.idle": "2025-02-04T21:59:23.694046Z",
     "shell.execute_reply": "2025-02-04T21:59:23.693903Z"
    },
    "trusted": true
   },
   "outputs": [],
   "source": [
    "# Instantiate the model\n",
    "model=ElasticNet(\n",
    "    alpha=0.13743694392305272,\n",
    "    fit_intercept=True,\n",
    "    l1_ratio=0.47247598680365765,\n",
    "    positive=False,\n",
    "    selection='cyclic',\n",
    "    max_iter=5000,\n",
    "    random_state=315\n",
    ")\n",
    "\n",
    "baseline_scores=cross_val(model, training_features_df, training_labels)\n",
    "\n",
    "model.fit(training_features_df, training_labels)\n",
    "predicted_efs_time=model.predict(training_features_df)\n",
    "\n",
    "# Set-up a 2x1 figure\n",
    "fig, axs=plt.subplots(1,2, figsize=(9,4))\n",
    "axs=axs.flatten()\n",
    "\n",
    "fig.suptitle('Linear regression model performance')\n",
    "\n",
    "axs[0].set_title('Actual vs predicted EFS time')\n",
    "axs[0].scatter(training_labels, predicted_efs_time, color='black')\n",
    "axs[0].set_xlabel('True efs time')\n",
    "axs[0].set_ylabel('Predicted EFS time')\n",
    "\n",
    "axs[1].set_title('EFS prediction error')\n",
    "axs[1].hist(training_labels-predicted_efs_time, density=True, bins=30, color='black')\n",
    "axs[1].set_xlabel('RMSE')\n",
    "axs[1].set_ylabel('Probability')\n",
    "\n",
    "plt.tight_layout()\n",
    "plt.show()"
   ]
  },
  {
   "cell_type": "markdown",
   "metadata": {},
   "source": [
    "## 6. Make test set predictions"
   ]
  },
  {
   "cell_type": "code",
   "execution_count": null,
   "metadata": {
    "execution": {
     "iopub.status.busy": "2025-02-04T21:59:23.694781Z",
     "iopub.status.idle": "2025-02-04T21:59:23.695218Z",
     "shell.execute_reply": "2025-02-04T21:59:23.695027Z"
    },
    "trusted": true
   },
   "outputs": [],
   "source": [
    "predicted_efs_time=model.predict(testing_features_df)\n",
    "scaler=MinMaxScaler()\n",
    "scaler.fit(predicted_efs_time.reshape(-1, 1))\n",
    "predicted_efs_time=scaler.transform(predicted_efs_time.reshape(-1, 1))\n",
    "\n",
    "predictions_df=pd.DataFrame.from_dict(\n",
    "    {\n",
    "        'ID': testing_ids,\n",
    "        'prediction': predicted_efs_time.flatten()\n",
    "    }\n",
    ")\n",
    "\n",
    "predictions_df.head()"
   ]
  },
  {
   "cell_type": "code",
   "execution_count": null,
   "metadata": {},
   "outputs": [],
   "source": [
    "predictions_df.to_csv('submission.csv', index=False)"
   ]
  }
 ],
 "metadata": {
  "kaggle": {
   "accelerator": "none",
   "dataSources": [
    {
     "databundleVersionId": 10381525,
     "sourceId": 70942,
     "sourceType": "competition"
    }
   ],
   "dockerImageVersionId": 30839,
   "isGpuEnabled": false,
   "isInternetEnabled": true,
   "language": "python",
   "sourceType": "notebook"
  },
  "kernelspec": {
   "display_name": ".venv",
   "language": "python",
   "name": "python3"
  },
  "language_info": {
   "codemirror_mode": {
    "name": "ipython",
    "version": 3
   },
   "file_extension": ".py",
   "mimetype": "text/x-python",
   "name": "python",
   "nbconvert_exporter": "python",
   "pygments_lexer": "ipython3",
   "version": "3.10.16"
  }
 },
 "nbformat": 4,
 "nbformat_minor": 4
}
