{
 "cells": [
  {
   "cell_type": "markdown",
   "id": "218d95f1",
   "metadata": {
    "papermill": {
     "duration": 0.004631,
     "end_time": "2025-02-04T22:22:16.573880",
     "exception": false,
     "start_time": "2025-02-04T22:22:16.569249",
     "status": "completed"
    },
    "tags": []
   },
   "source": [
    "# HSCT survival linear regression model\n",
    "\n",
    "## Notebook set-up"
   ]
  },
  {
   "cell_type": "code",
   "execution_count": 1,
   "id": "353f7abc",
   "metadata": {
    "execution": {
     "iopub.execute_input": "2025-02-04T22:22:16.583861Z",
     "iopub.status.busy": "2025-02-04T22:22:16.583329Z",
     "iopub.status.idle": "2025-02-04T22:22:19.121212Z",
     "shell.execute_reply": "2025-02-04T22:22:19.120026Z"
    },
    "papermill": {
     "duration": 2.545002,
     "end_time": "2025-02-04T22:22:19.123226",
     "exception": false,
     "start_time": "2025-02-04T22:22:16.578224",
     "status": "completed"
    },
    "tags": []
   },
   "outputs": [],
   "source": [
    "import pandas as pd\n",
    "import matplotlib.pyplot as plt\n",
    "from scipy.stats import uniform\n",
    "from sklearn.impute import KNNImputer\n",
    "from sklearn.preprocessing import OneHotEncoder, MinMaxScaler\n",
    "from sklearn.linear_model import ElasticNet\n",
    "from sklearn.model_selection import KFold, cross_val_score, RandomizedSearchCV"
   ]
  },
  {
   "cell_type": "markdown",
   "id": "a3ef79bb",
   "metadata": {
    "papermill": {
     "duration": 0.003681,
     "end_time": "2025-02-04T22:22:19.131184",
     "exception": false,
     "start_time": "2025-02-04T22:22:19.127503",
     "status": "completed"
    },
    "tags": []
   },
   "source": [
    "## 1. Load data"
   ]
  },
  {
   "cell_type": "code",
   "execution_count": 2,
   "id": "a35c857e",
   "metadata": {
    "execution": {
     "iopub.execute_input": "2025-02-04T22:22:19.141071Z",
     "iopub.status.busy": "2025-02-04T22:22:19.140516Z",
     "iopub.status.idle": "2025-02-04T22:22:19.581829Z",
     "shell.execute_reply": "2025-02-04T22:22:19.580462Z"
    },
    "papermill": {
     "duration": 0.448415,
     "end_time": "2025-02-04T22:22:19.583807",
     "exception": false,
     "start_time": "2025-02-04T22:22:19.135392",
     "status": "completed"
    },
    "tags": []
   },
   "outputs": [
    {
     "name": "stdout",
     "output_type": "stream",
     "text": [
      "Training features: (28800, 57)\n",
      "Testing features: (3, 57)\n"
     ]
    }
   ],
   "source": [
    "# Load the datasets\n",
    "dictionary_df=pd.read_csv('/kaggle/input/equity-post-HCT-survival-predictions/data_dictionary.csv')\n",
    "training_df=pd.read_csv('/kaggle/input/equity-post-HCT-survival-predictions/train.csv')\n",
    "testing_df=pd.read_csv('/kaggle/input/equity-post-HCT-survival-predictions/test.csv')\n",
    "\n",
    "# Save the ID and drop\n",
    "testing_ids=testing_df['ID']\n",
    "training_df.drop('ID', axis=1, inplace=True)\n",
    "testing_df.drop('ID', axis=1, inplace=True)\n",
    "\n",
    "# Remove the labels from the training dataframe\n",
    "training_labels=training_df['efs_time']\n",
    "training_df.drop(['efs', 'efs_time'], axis=1, inplace=True)\n",
    "\n",
    "print(f'Training features: {training_df.shape}')\n",
    "print(f'Testing features: {testing_df.shape}')"
   ]
  },
  {
   "cell_type": "markdown",
   "id": "e578042f",
   "metadata": {
    "papermill": {
     "duration": 0.003617,
     "end_time": "2025-02-04T22:22:19.591656",
     "exception": false,
     "start_time": "2025-02-04T22:22:19.588039",
     "status": "completed"
    },
    "tags": []
   },
   "source": [
    "## 2. Split categorical and numerical features"
   ]
  },
  {
   "cell_type": "code",
   "execution_count": 3,
   "id": "921280ed",
   "metadata": {
    "execution": {
     "iopub.execute_input": "2025-02-04T22:22:19.600625Z",
     "iopub.status.busy": "2025-02-04T22:22:19.600307Z",
     "iopub.status.idle": "2025-02-04T22:22:19.634253Z",
     "shell.execute_reply": "2025-02-04T22:22:19.633158Z"
    },
    "papermill": {
     "duration": 0.040444,
     "end_time": "2025-02-04T22:22:19.636043",
     "exception": false,
     "start_time": "2025-02-04T22:22:19.595599",
     "status": "completed"
    },
    "tags": []
   },
   "outputs": [
    {
     "name": "stdout",
     "output_type": "stream",
     "text": [
      "Training numerical features: (28800, 22)\n",
      "Training categorical features: (28800, 35)\n",
      "Testing numerical features: (3, 22)\n",
      "Testing categorical features: (3, 35)\n"
     ]
    }
   ],
   "source": [
    "# Get lists of categorical and numerical column names\n",
    "categorical_feature_names=dictionary_df['variable'][dictionary_df['type'] == 'Categorical']\n",
    "numerical_feature_names=dictionary_df['variable'][dictionary_df['type'] == 'Numerical']\n",
    "\n",
    "# Remove the feature column from the column names lists\n",
    "categorical_feature_names=categorical_feature_names[categorical_feature_names != 'efs']\n",
    "numerical_feature_names=numerical_feature_names[numerical_feature_names != 'efs_time']\n",
    "\n",
    "# Split the training and testing dataframes\n",
    "training_categorical_df=training_df[categorical_feature_names].copy()\n",
    "training_numerical_df=training_df[numerical_feature_names].copy()\n",
    "testing_categorical_df=testing_df[categorical_feature_names].copy()\n",
    "testing_numerical_df=testing_df[numerical_feature_names].copy()\n",
    "\n",
    "print(f'Training numerical features: {training_numerical_df.shape}')\n",
    "print(f'Training categorical features: {training_categorical_df.shape}')\n",
    "print(f'Testing numerical features: {testing_numerical_df.shape}')\n",
    "print(f'Testing categorical features: {testing_categorical_df.shape}')"
   ]
  },
  {
   "cell_type": "markdown",
   "id": "dd9b66fc",
   "metadata": {
    "execution": {
     "iopub.execute_input": "2025-02-04T21:24:00.384368Z",
     "iopub.status.busy": "2025-02-04T21:24:00.384034Z",
     "iopub.status.idle": "2025-02-04T21:24:00.388303Z",
     "shell.execute_reply": "2025-02-04T21:24:00.387137Z",
     "shell.execute_reply.started": "2025-02-04T21:24:00.384341Z"
    },
    "papermill": {
     "duration": 0.003776,
     "end_time": "2025-02-04T22:22:19.644030",
     "exception": false,
     "start_time": "2025-02-04T22:22:19.640254",
     "status": "completed"
    },
    "tags": []
   },
   "source": [
    "## 3. Handle missing data\n",
    "\n",
    "### 3.1. Categorical features"
   ]
  },
  {
   "cell_type": "code",
   "execution_count": 4,
   "id": "e9e5f294",
   "metadata": {
    "execution": {
     "iopub.execute_input": "2025-02-04T22:22:19.653235Z",
     "iopub.status.busy": "2025-02-04T22:22:19.652864Z",
     "iopub.status.idle": "2025-02-04T22:22:19.748640Z",
     "shell.execute_reply": "2025-02-04T22:22:19.747512Z"
    },
    "papermill": {
     "duration": 0.102397,
     "end_time": "2025-02-04T22:22:19.750400",
     "exception": false,
     "start_time": "2025-02-04T22:22:19.648003",
     "status": "completed"
    },
    "tags": []
   },
   "outputs": [
    {
     "name": "stdout",
     "output_type": "stream",
     "text": [
      "Training categorical features: (28800, 35)\n",
      "Testing categorical features: (3, 35)\n"
     ]
    }
   ],
   "source": [
    "training_categorical_df.fillna('Missing', inplace=True)\n",
    "testing_categorical_df.fillna('Missing', inplace=True)\n",
    "\n",
    "print(f'Training categorical features: {training_categorical_df.shape}')\n",
    "print(f'Testing categorical features: {testing_categorical_df.shape}')"
   ]
  },
  {
   "cell_type": "markdown",
   "id": "cb3576a3",
   "metadata": {
    "execution": {
     "iopub.execute_input": "2025-02-04T20:41:56.192759Z",
     "iopub.status.busy": "2025-02-04T20:41:56.192322Z",
     "iopub.status.idle": "2025-02-04T20:41:56.196867Z",
     "shell.execute_reply": "2025-02-04T20:41:56.195715Z",
     "shell.execute_reply.started": "2025-02-04T20:41:56.192717Z"
    },
    "papermill": {
     "duration": 0.003741,
     "end_time": "2025-02-04T22:22:19.758518",
     "exception": false,
     "start_time": "2025-02-04T22:22:19.754777",
     "status": "completed"
    },
    "tags": []
   },
   "source": [
    "### 3.2. Numerical features"
   ]
  },
  {
   "cell_type": "code",
   "execution_count": 5,
   "id": "35788687",
   "metadata": {
    "execution": {
     "iopub.execute_input": "2025-02-04T22:22:19.767686Z",
     "iopub.status.busy": "2025-02-04T22:22:19.767350Z",
     "iopub.status.idle": "2025-02-04T22:23:20.930654Z",
     "shell.execute_reply": "2025-02-04T22:23:20.929396Z"
    },
    "papermill": {
     "duration": 61.173828,
     "end_time": "2025-02-04T22:23:20.936355",
     "exception": false,
     "start_time": "2025-02-04T22:22:19.762527",
     "status": "completed"
    },
    "tags": []
   },
   "outputs": [
    {
     "name": "stdout",
     "output_type": "stream",
     "text": [
      "Training numerical features: (28800, 22)\n",
      "Testing numerical features: (3, 22)\n"
     ]
    }
   ],
   "source": [
    "imputer=KNNImputer(n_neighbors=3, weights='uniform')\n",
    "imputer.fit(training_numerical_df)\n",
    "\n",
    "training_numerical_data=imputer.transform(training_numerical_df)\n",
    "testing_numerical_data=imputer.transform(testing_numerical_df)\n",
    "\n",
    "training_numerical_df=pd.DataFrame(training_numerical_data, columns=training_numerical_df.columns)\n",
    "testing_numerical_df=pd.DataFrame(testing_numerical_data, columns=training_numerical_df.columns)\n",
    "\n",
    "print(f'Training numerical features: {training_numerical_df.shape}')\n",
    "print(f'Testing numerical features: {testing_numerical_df.shape}')"
   ]
  },
  {
   "cell_type": "markdown",
   "id": "d65a8578",
   "metadata": {
    "papermill": {
     "duration": 0.004074,
     "end_time": "2025-02-04T22:23:20.944923",
     "exception": false,
     "start_time": "2025-02-04T22:23:20.940849",
     "status": "completed"
    },
    "tags": []
   },
   "source": [
    "## 4. One-hot encode categorical features"
   ]
  },
  {
   "cell_type": "code",
   "execution_count": 6,
   "id": "aa235439",
   "metadata": {
    "execution": {
     "iopub.execute_input": "2025-02-04T22:23:20.954915Z",
     "iopub.status.busy": "2025-02-04T22:23:20.954521Z",
     "iopub.status.idle": "2025-02-04T22:23:21.442013Z",
     "shell.execute_reply": "2025-02-04T22:23:21.440732Z"
    },
    "papermill": {
     "duration": 0.494504,
     "end_time": "2025-02-04T22:23:21.443793",
     "exception": false,
     "start_time": "2025-02-04T22:23:20.949289",
     "status": "completed"
    },
    "tags": []
   },
   "outputs": [
    {
     "name": "stdout",
     "output_type": "stream",
     "text": [
      "Training features: (28800, 178)\n",
      "Testing features: (3, 178)\n"
     ]
    }
   ],
   "source": [
    "encoder=OneHotEncoder(drop='first',sparse_output=False)\n",
    "encoder.fit(training_categorical_df)\n",
    "feature_names=encoder.get_feature_names_out()\n",
    "\n",
    "training_categorical_data=encoder.transform(training_categorical_df)\n",
    "testing_categorical_data=encoder.transform(testing_categorical_df)\n",
    "\n",
    "training_categorical_df=pd.DataFrame(training_categorical_data, columns=feature_names)\n",
    "testing_categorical_df=pd.DataFrame(testing_categorical_data, columns=feature_names)\n",
    "\n",
    "training_features_df=pd.concat(\n",
    "    [\n",
    "        training_numerical_df.reset_index(drop=True), \n",
    "        training_categorical_df.reset_index(drop=True)\n",
    "    ],\n",
    "    axis=1\n",
    ")\n",
    "\n",
    "testing_features_df=pd.concat(\n",
    "    [\n",
    "        testing_numerical_df.reset_index(drop=True), \n",
    "        testing_categorical_df.reset_index(drop=True)\n",
    "    ],\n",
    "    axis=1\n",
    ")\n",
    "\n",
    "print(f'Training features: {training_features_df.shape}')\n",
    "print(f'Testing features: {testing_features_df.shape}')"
   ]
  },
  {
   "cell_type": "markdown",
   "id": "eabb0ff9",
   "metadata": {
    "papermill": {
     "duration": 0.004824,
     "end_time": "2025-02-04T22:23:21.453240",
     "exception": false,
     "start_time": "2025-02-04T22:23:21.448416",
     "status": "completed"
    },
    "tags": []
   },
   "source": [
    "## 5. Fit and evaluate the model"
   ]
  },
  {
   "cell_type": "code",
   "execution_count": 7,
   "id": "2a82331c",
   "metadata": {
    "execution": {
     "iopub.execute_input": "2025-02-04T22:23:21.468259Z",
     "iopub.status.busy": "2025-02-04T22:23:21.467777Z",
     "iopub.status.idle": "2025-02-04T22:23:21.475097Z",
     "shell.execute_reply": "2025-02-04T22:23:21.473879Z"
    },
    "papermill": {
     "duration": 0.017393,
     "end_time": "2025-02-04T22:23:21.477394",
     "exception": false,
     "start_time": "2025-02-04T22:23:21.460001",
     "status": "completed"
    },
    "tags": []
   },
   "outputs": [],
   "source": [
    "def cross_val(model, features: pd.DataFrame, labels: pd.Series) -> list[float]:\n",
    "    '''Reusable helper function to run cross-validation on a model. Takes model,\n",
    "    Pandas data frame of features and Pandas data series of labels. Returns \n",
    "    list of cross-validation fold accuracy scores as percents.'''\n",
    "\n",
    "    # Define the cross-validation strategy\n",
    "    cross_validation=KFold(n_splits=7, shuffle=True, random_state=315)\n",
    "\n",
    "    # Run the cross-validation, collecting the scores\n",
    "    scores=cross_val_score(\n",
    "        model,\n",
    "        features,\n",
    "        labels,\n",
    "        cv=cross_validation,\n",
    "        n_jobs=-1,\n",
    "        scoring='neg_root_mean_squared_error'\n",
    "    )\n",
    "\n",
    "    # Print mean and standard deviation of the scores\n",
    "    print(f'Cross validation RMSE {-scores.mean():.2f} +/- {scores.std():.2f}')\n",
    "\n",
    "    # Return the scores\n",
    "    return scores"
   ]
  },
  {
   "cell_type": "code",
   "execution_count": 8,
   "id": "fe2a42ac",
   "metadata": {
    "execution": {
     "iopub.execute_input": "2025-02-04T22:23:21.493371Z",
     "iopub.status.busy": "2025-02-04T22:23:21.492844Z",
     "iopub.status.idle": "2025-02-04T22:23:25.402899Z",
     "shell.execute_reply": "2025-02-04T22:23:25.401690Z"
    },
    "papermill": {
     "duration": 3.921103,
     "end_time": "2025-02-04T22:23:25.404609",
     "exception": false,
     "start_time": "2025-02-04T22:23:21.483506",
     "status": "completed"
    },
    "tags": []
   },
   "outputs": [
    {
     "name": "stdout",
     "output_type": "stream",
     "text": [
      "Cross validation RMSE 22.91 +/- 0.28\n"
     ]
    },
    {
     "data": {
      "image/png": "[encoded data removed]",
      "text/plain": [
       "<Figure size 900x400 with 2 Axes>"
      ]
     },
     "metadata": {},
     "output_type": "display_data"
    }
   ],
   "source": [
    "# Instantiate the model\n",
    "model=ElasticNet(\n",
    "    alpha=0.13743694392305272,\n",
    "    fit_intercept=True,\n",
    "    l1_ratio=0.47247598680365765,\n",
    "    positive=False,\n",
    "    selection='cyclic',\n",
    "    max_iter=5000,\n",
    "    random_state=315\n",
    ")\n",
    "\n",
    "baseline_scores=cross_val(model, training_features_df, training_labels)\n",
    "\n",
    "model.fit(training_features_df, training_labels)\n",
    "predicted_efs_time=model.predict(training_features_df)\n",
    "\n",
    "# Set-up a 2x1 figure\n",
    "fig, axs=plt.subplots(1,2, figsize=(9,4))\n",
    "axs=axs.flatten()\n",
    "\n",
    "fig.suptitle('Linear regression model performance')\n",
    "\n",
    "axs[0].set_title('Actual vs predicted EFS time')\n",
    "axs[0].scatter(training_labels, predicted_efs_time, color='black')\n",
    "axs[0].set_xlabel('True efs time')\n",
    "axs[0].set_ylabel('Predicted EFS time')\n",
    "\n",
    "axs[1].set_title('EFS prediction error')\n",
    "axs[1].hist(training_labels-predicted_efs_time, density=True, bins=30, color='black')\n",
    "axs[1].set_xlabel('RMSE')\n",
    "axs[1].set_ylabel('Probability')\n",
    "\n",
    "plt.tight_layout()\n",
    "plt.show()"
   ]
  },
  {
   "cell_type": "markdown",
   "id": "bc7bf3a1",
   "metadata": {
    "papermill": {
     "duration": 0.005361,
     "end_time": "2025-02-04T22:23:25.415855",
     "exception": false,
     "start_time": "2025-02-04T22:23:25.410494",
     "status": "completed"
    },
    "tags": []
   },
   "source": [
    "## 6. Make test set predictions"
   ]
  },
  {
   "cell_type": "code",
   "execution_count": 9,
   "id": "45f59bdb",
   "metadata": {
    "execution": {
     "iopub.execute_input": "2025-02-04T22:23:25.428404Z",
     "iopub.status.busy": "2025-02-04T22:23:25.428021Z",
     "iopub.status.idle": "2025-02-04T22:23:25.451203Z",
     "shell.execute_reply": "2025-02-04T22:23:25.450160Z"
    },
    "papermill": {
     "duration": 0.031357,
     "end_time": "2025-02-04T22:23:25.452863",
     "exception": false,
     "start_time": "2025-02-04T22:23:25.421506",
     "status": "completed"
    },
    "tags": []
   },
   "outputs": [
    {
     "data": {
      "text/html": [
       "<div>\n",
       "<style scoped>\n",
       "    .dataframe tbody tr th:only-of-type {\n",
       "        vertical-align: middle;\n",
       "    }\n",
       "\n",
       "    .dataframe tbody tr th {\n",
       "        vertical-align: top;\n",
       "    }\n",
       "\n",
       "    .dataframe thead th {\n",
       "        text-align: right;\n",
       "    }\n",
       "</style>\n",
       "<table border=\"1\" class=\"dataframe\">\n",
       "  <thead>\n",
       "    <tr style=\"text-align: right;\">\n",
       "      <th></th>\n",
       "      <th>ID</th>\n",
       "      <th>prediction</th>\n",
       "    </tr>\n",
       "  </thead>\n",
       "  <tbody>\n",
       "    <tr>\n",
       "      <th>0</th>\n",
       "      <td>28800</td>\n",
       "      <td>0.66592</td>\n",
       "    </tr>\n",
       "    <tr>\n",
       "      <th>1</th>\n",
       "      <td>28801</td>\n",
       "      <td>1.00000</td>\n",
       "    </tr>\n",
       "    <tr>\n",
       "      <th>2</th>\n",
       "      <td>28802</td>\n",
       "      <td>0.00000</td>\n",
       "    </tr>\n",
       "  </tbody>\n",
       "</table>\n",
       "</div>"
      ],
      "text/plain": [
       "      ID  prediction\n",
       "0  28800     0.66592\n",
       "1  28801     1.00000\n",
       "2  28802     0.00000"
      ]
     },
     "execution_count": 9,
     "metadata": {},
     "output_type": "execute_result"
    }
   ],
   "source": [
    "predicted_efs_time=model.predict(testing_features_df)\n",
    "scaler=MinMaxScaler()\n",
    "scaler.fit(predicted_efs_time.reshape(-1, 1))\n",
    "predicted_efs_time=scaler.transform(predicted_efs_time.reshape(-1, 1))\n",
    "\n",
    "predictions_df=pd.DataFrame.from_dict(\n",
    "    {\n",
    "        'ID': testing_ids,\n",
    "        'prediction': predicted_efs_time.flatten()\n",
    "    }\n",
    ")\n",
    "\n",
    "predictions_df.head()"
   ]
  },
  {
   "cell_type": "code",
   "execution_count": 10,
   "id": "23a48494",
   "metadata": {
    "execution": {
     "iopub.execute_input": "2025-02-04T22:23:25.465802Z",
     "iopub.status.busy": "2025-02-04T22:23:25.465386Z",
     "iopub.status.idle": "2025-02-04T22:23:25.475500Z",
     "shell.execute_reply": "2025-02-04T22:23:25.474423Z"
    },
    "papermill": {
     "duration": 0.018667,
     "end_time": "2025-02-04T22:23:25.477381",
     "exception": false,
     "start_time": "2025-02-04T22:23:25.458714",
     "status": "completed"
    },
    "tags": []
   },
   "outputs": [],
   "source": [
    "predictions_df.to_csv('submission.csv', index=False)"
   ]
  }
 ],
 "metadata": {
  "kaggle": {
   "accelerator": "none",
   "dataSources": [
    {
     "databundleVersionId": 10381525,
     "sourceId": 70942,
     "sourceType": "competition"
    }
   ],
   "dockerImageVersionId": 30839,
   "isGpuEnabled": false,
   "isInternetEnabled": false,
   "language": "python",
   "sourceType": "notebook"
  },
  "kernelspec": {
   "display_name": ".venv",
   "language": "python",
   "name": "python3"
  },
  "language_info": {
   "codemirror_mode": {
    "name": "ipython",
    "version": 3
   },
   "file_extension": ".py",
   "mimetype": "text/x-python",
   "name": "python",
   "nbconvert_exporter": "python",
   "pygments_lexer": "ipython3",
   "version": "3.10.12"
  },
  "papermill": {
   "default_parameters": {},
   "duration": 72.473331,
   "end_time": "2025-02-04T22:23:26.203954",
   "environment_variables": {},
   "exception": null,
   "input_path": "__notebook__.ipynb",
   "output_path": "__notebook__.ipynb",
   "parameters": {},
   "start_time": "2025-02-04T22:22:13.730623",
   "version": "2.6.0"
  }
 },
 "nbformat": 4,
 "nbformat_minor": 5
}
