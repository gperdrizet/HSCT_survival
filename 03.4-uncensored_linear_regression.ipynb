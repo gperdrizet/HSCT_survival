{
 "cells": [
  {
   "cell_type": "markdown",
   "metadata": {},
   "source": [
    "# HSCT survival: uncensored linear regression model\n",
    "\n",
    "## Notebook set-up"
   ]
  },
  {
   "cell_type": "code",
   "execution_count": 1,
   "metadata": {},
   "outputs": [],
   "source": [
    "import pickle\n",
    "import pandas as pd\n",
    "import matplotlib.pyplot as plt\n",
    "from lifelines.utils import concordance_index\n",
    "from sklearn.model_selection import train_test_split\n",
    "from sklearn.linear_model import LinearRegression\n",
    "from sklearn.metrics import root_mean_squared_error\n",
    "\n",
    "import functions.helper as helper_funcs\n",
    "\n",
    "training_features_df_file='./data/processed/02.1-scaled_encoded_training_features_df.parquet'\n",
    "training_labels_df_file='./data/processed/02.1-scaled_encoded_training_labels_df.parquet'\n",
    "\n",
    "model_file='./models/03.4-uncensored_linear_regression.pkl'"
   ]
  },
  {
   "cell_type": "markdown",
   "metadata": {},
   "source": [
    "## 1. Load data"
   ]
  },
  {
   "cell_type": "code",
   "execution_count": 2,
   "metadata": {},
   "outputs": [],
   "source": [
    "features_df=pd.read_parquet(training_features_df_file)\n",
    "labels_df=pd.read_parquet(training_labels_df_file)\n",
    "\n",
    "df=pd.concat([features_df.reset_index(drop=True),labels_df.reset_index(drop=True)],axis=1)\n",
    "\n",
    "raw_training_df=pd.read_csv('./data/raw/train.csv')\n",
    "df['race_group']=raw_training_df['race_group']"
   ]
  },
  {
   "cell_type": "markdown",
   "metadata": {},
   "source": [
    "## 2. Train-test split"
   ]
  },
  {
   "cell_type": "code",
   "execution_count": 3,
   "metadata": {},
   "outputs": [],
   "source": [
    "training, testing=train_test_split(df, test_size=0.33,random_state=315)\n",
    "\n",
    "training_df=pd.DataFrame(training, columns=df.columns)\n",
    "testing_df=pd.DataFrame(testing, columns=df.columns)\n",
    "\n",
    "training_labels_df=training_df[['efs', 'efs_time']]\n",
    "training_features_df=training_df.drop(['efs', 'efs_time'], axis=1)\n",
    "\n",
    "testing_labels_df=testing_df[['efs', 'efs_time']]\n",
    "testing_features_df=testing_df.drop(['efs', 'efs_time'], axis=1)"
   ]
  },
  {
   "cell_type": "markdown",
   "metadata": {},
   "source": [
    "## 3. Baseline model: censored and uncensored data"
   ]
  },
  {
   "cell_type": "code",
   "execution_count": 4,
   "metadata": {},
   "outputs": [
    {
     "name": "stdout",
     "output_type": "stream",
     "text": [
      "Cross validation RMSE 0.92 +/- 0.01\n"
     ]
    }
   ],
   "source": [
    "# Instantiate default linear regression model\n",
    "model=LinearRegression()\n",
    "\n",
    "# Run cross-validation to estimate out-of-sample performance\n",
    "scores=helper_funcs.cross_val(\n",
    "    model,\n",
    "    training_features_df.drop(['ID','race_group'], axis=1),\n",
    "    training_labels_df['efs_time']\n",
    ")\n",
    "\n",
    "cross_val_scores={'Baseline model': scores}"
   ]
  },
  {
   "cell_type": "code",
   "execution_count": 5,
   "metadata": {},
   "outputs": [],
   "source": [
    "baseline_model=LinearRegression()\n",
    "\n",
    "baseline_result=baseline_model.fit(\n",
    "    training_features_df.drop(['ID','race_group'], axis=1),\n",
    "    training_labels_df['efs_time']\n",
    ")"
   ]
  },
  {
   "cell_type": "markdown",
   "metadata": {},
   "source": [
    "## 4. Uncensored only model\n",
    "\n",
    "### 4.1. Split data into censored and uncensored"
   ]
  },
  {
   "cell_type": "code",
   "execution_count": 6,
   "metadata": {},
   "outputs": [
    {
     "data": {
      "image/png": "[encoded data removed]",
      "text/plain": [
       "<Figure size 640x480 with 1 Axes>"
      ]
     },
     "metadata": {},
     "output_type": "display_data"
    }
   ],
   "source": [
    "working_training_df=pd.concat(\n",
    "    [\n",
    "        training_features_df.reset_index(drop=True),\n",
    "        training_labels_df.reset_index(drop=True)\n",
    "    ],\n",
    "    axis=1\n",
    ")\n",
    "\n",
    "censored_training_df=working_training_df[working_training_df['efs'] == 0]\n",
    "uncensored_training_df=working_training_df[working_training_df['efs'] == 1]\n",
    "\n",
    "plt.title('Event free survival time')\n",
    "plt.hist(censored_training_df['efs_time'], density=True, bins=50, color='black', label='EFS 0')\n",
    "plt.hist(uncensored_training_df['efs_time'], density=True, bins=50, color='firebrick', label='EFS 1')\n",
    "plt.xlabel('EFS time (months)')\n",
    "plt.ylabel('Probability')\n",
    "plt.legend(loc='best')\n",
    "plt.show()"
   ]
  },
  {
   "cell_type": "markdown",
   "metadata": {},
   "source": [
    "### 4.3. Linear regression model"
   ]
  },
  {
   "cell_type": "code",
   "execution_count": 7,
   "metadata": {},
   "outputs": [
    {
     "name": "stdout",
     "output_type": "stream",
     "text": [
      "Cross validation RMSE 0.37 +/- 0.01\n"
     ]
    }
   ],
   "source": [
    "uncensored_training_labels_df=uncensored_training_df[['efs', 'efs_time']]\n",
    "uncensored_training_features_df=uncensored_training_df.drop(['efs', 'efs_time'], axis=1)\n",
    "\n",
    "# Instantiate default linear regression model\n",
    "model=LinearRegression()\n",
    "\n",
    "# Run cross-validation to estimate out-of-sample performance\n",
    "scores=helper_funcs.cross_val(\n",
    "    model,\n",
    "    uncensored_training_features_df.drop(['ID','race_group'], axis=1),\n",
    "    uncensored_training_labels_df['efs_time']\n",
    ")\n",
    "\n",
    "cross_val_scores['Uncensored model']=scores"
   ]
  },
  {
   "cell_type": "code",
   "execution_count": 8,
   "metadata": {},
   "outputs": [],
   "source": [
    "uncensored_model=LinearRegression()\n",
    "\n",
    "uncensored_result=uncensored_model.fit(\n",
    "    uncensored_training_features_df.drop(['ID','race_group'], axis=1),\n",
    "    uncensored_training_labels_df['efs_time']\n",
    ")\n",
    "\n",
    "with open(model_file, 'wb') as output_file:\n",
    "    pickle.dump(uncensored_model, output_file)"
   ]
  },
  {
   "cell_type": "markdown",
   "metadata": {},
   "source": [
    "## 5. Model comparison\n",
    "\n",
    "### 5.1. EFS time RMSE"
   ]
  },
  {
   "cell_type": "code",
   "execution_count": 9,
   "metadata": {},
   "outputs": [
    {
     "name": "stdout",
     "output_type": "stream",
     "text": [
      "Baseline testing RMSE: 0.9133610272901422\n",
      "Uncensored testing RMSE: 1.2928808900852846\n"
     ]
    }
   ],
   "source": [
    "baseline_predictions=baseline_model.predict(testing_features_df.drop(['ID','race_group'], axis=1))\n",
    "uncensored_predictions=uncensored_model.predict(testing_features_df.drop(['ID','race_group'], axis=1))\n",
    "\n",
    "print(f'Baseline testing RMSE: {root_mean_squared_error(testing_labels_df[\"efs_time\"], baseline_predictions)}')\n",
    "print(f'Uncensored testing RMSE: {root_mean_squared_error(testing_labels_df[\"efs_time\"], uncensored_predictions)}')"
   ]
  },
  {
   "cell_type": "markdown",
   "metadata": {},
   "source": [
    "### 5.2. Concordance index"
   ]
  },
  {
   "cell_type": "code",
   "execution_count": 10,
   "metadata": {},
   "outputs": [
    {
     "name": "stdout",
     "output_type": "stream",
     "text": [
      "Baseline C-index: 0.657632640957935\n",
      "Uncensored C-index: 0.5498769539247942\n"
     ]
    }
   ],
   "source": [
    "baseline_cindex=concordance_index(\n",
    "    testing_labels_df['efs_time'],\n",
    "    baseline_predictions,\n",
    "    testing_labels_df['efs']\n",
    ")\n",
    "\n",
    "uncensored_cindex=concordance_index(\n",
    "    testing_labels_df['efs_time'],\n",
    "    uncensored_predictions,\n",
    "    testing_labels_df['efs']\n",
    ")\n",
    "\n",
    "print(f'Baseline C-index: {baseline_cindex}')\n",
    "print(f'Uncensored C-index: {uncensored_cindex}')"
   ]
  },
  {
   "cell_type": "markdown",
   "metadata": {},
   "source": [
    "### 5.3. Stratified concordance index"
   ]
  },
  {
   "cell_type": "code",
   "execution_count": 11,
   "metadata": {},
   "outputs": [
    {
     "name": "stdout",
     "output_type": "stream",
     "text": [
      "Baseline stratified concordance score: 0.33410822621538594\n",
      "Uncensored stratified concordance score: 0.4282544471154018\n"
     ]
    }
   ],
   "source": [
    "baseline_submission=pd.DataFrame({'ID': testing_df['ID'], 'prediction': baseline_predictions})\n",
    "uncensored_submission=pd.DataFrame({'ID': testing_df['ID'], 'prediction': uncensored_predictions})\n",
    "baseline_score=helper_funcs.competition_score(testing_df, baseline_submission)\n",
    "uncensored_score=helper_funcs.competition_score(testing_df, uncensored_submission)\n",
    "\n",
    "print(f'Baseline stratified concordance score: {baseline_score}')\n",
    "print(f'Uncensored stratified concordance score: {uncensored_score}')"
   ]
  }
 ],
 "metadata": {
  "kernelspec": {
   "display_name": ".venv",
   "language": "python",
   "name": "python3"
  },
  "language_info": {
   "codemirror_mode": {
    "name": "ipython",
    "version": 3
   },
   "file_extension": ".py",
   "mimetype": "text/x-python",
   "name": "python",
   "nbconvert_exporter": "python",
   "pygments_lexer": "ipython3",
   "version": "3.10.16"
  }
 },
 "nbformat": 4,
 "nbformat_minor": 2
}
