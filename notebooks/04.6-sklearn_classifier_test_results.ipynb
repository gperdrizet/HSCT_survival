{
 "cells": [
  {
   "cell_type": "markdown",
   "metadata": {},
   "source": [
    "# SciKit-learn classifier testing results\n",
    "\n",
    "## Notebook set-up"
   ]
  },
  {
   "cell_type": "code",
   "execution_count": 1,
   "metadata": {},
   "outputs": [],
   "source": [
    "import pickle\n",
    "import pandas as pd\n",
    "import seaborn as sns\n",
    "import matplotlib.pyplot as plt\n",
    "from sklearn.metrics import confusion_matrix, ConfusionMatrixDisplay"
   ]
  },
  {
   "cell_type": "markdown",
   "metadata": {},
   "source": [
    "## 1. Data loading"
   ]
  },
  {
   "cell_type": "code",
   "execution_count": 2,
   "metadata": {},
   "outputs": [
    {
     "name": "stdout",
     "output_type": "stream",
     "text": [
      "Models: ['Nearest Neighbors', 'Linear SVM', 'RBF SVM', 'Polynomial SVM', 'Gaussian Process', 'Decision Tree', 'Random Forest', 'Neural Net', 'AdaBoost', 'Naive Bayes', 'QDA', 'XGBoost']\n"
     ]
    }
   ],
   "source": [
    "data_file='../data/processed/02.1-no-multicollinearity_one_hot_ordinal_nan_imputed_data_df.pkl'\n",
    "\n",
    "with open(data_file, 'rb') as input_file:\n",
    "    data_dict=pickle.load(input_file)\n",
    "\n",
    "data_file='../data/results/data/sklearn_classifier_test.pkl'\n",
    "\n",
    "with open(data_file, 'rb') as input_file:\n",
    "    results=pickle.load(input_file)\n",
    "\n",
    "print(f'Models: {list(results.keys())}')"
   ]
  },
  {
   "cell_type": "markdown",
   "metadata": {},
   "source": [
    "## 2. Baseline performance"
   ]
  },
  {
   "cell_type": "code",
   "execution_count": 3,
   "metadata": {},
   "outputs": [
    {
     "name": "stdout",
     "output_type": "stream",
     "text": [
      "Baseline model performance: 54.0%\n"
     ]
    }
   ],
   "source": [
    "dumb_guess=sum(data_dict['Testing labels']['efs'])/len(data_dict['Testing labels']['efs'])*100\n",
    "print(f'Baseline model performance: {dumb_guess:.1f}%')"
   ]
  },
  {
   "cell_type": "markdown",
   "metadata": {},
   "source": [
    "## 3. Cross-validation performance"
   ]
  },
  {
   "cell_type": "code",
   "execution_count": 4,
   "metadata": {},
   "outputs": [
    {
     "ename": "SyntaxError",
     "evalue": "f-string: unmatched '[' (310823589.py, line 4)",
     "output_type": "error",
     "traceback": [
      "\u001b[0;36m  Cell \u001b[0;32mIn[4], line 4\u001b[0;36m\u001b[0m\n\u001b[0;31m    print(f'{model}: {data['Best parameters']}')\u001b[0m\n\u001b[0m                            ^\u001b[0m\n\u001b[0;31mSyntaxError\u001b[0m\u001b[0;31m:\u001b[0m f-string: unmatched '['\n"
     ]
    }
   ],
   "source": [
    "results_dfs=[]\n",
    "\n",
    "for model, data in results.items():\n",
    "    print(f\"{model}: {data['Best parameters']}\")\n",
    "\n",
    "    results_dfs.append(pd.DataFrame.from_dict({'Model': [model]*len(data['Cross validation scores']), 'Cross-validation scores': data['Cross validation scores']}))\n",
    "\n",
    "results_df=pd.concat(results_dfs, axis=0)\n",
    "results_df.head()"
   ]
  },
  {
   "cell_type": "code",
   "execution_count": null,
   "metadata": {},
   "outputs": [],
   "source": [
    "fig, ax=plt.subplots(1,1, figsize=(10,3))\n",
    "\n",
    "ax.set_title('Classifier cross-validation accuracy')\n",
    "sns.boxplot(results_df, x='Model', y='Cross-validation scores', ax=ax)\n",
    "ax.tick_params(axis='x', labelrotation=45)\n",
    "fig.show()"
   ]
  },
  {
   "cell_type": "markdown",
   "metadata": {},
   "source": [
    "## 4. Test set performance"
   ]
  },
  {
   "cell_type": "code",
   "execution_count": null,
   "metadata": {},
   "outputs": [],
   "source": [
    "rows=len(results.keys()) // 4\n",
    "\n",
    "fig, axs=plt.subplots(rows,4, figsize=(12,3*rows))\n",
    "axs=axs.flatten()\n",
    "\n",
    "fig.suptitle('XGBoost classifier performance: hold-out test set')\n",
    "\n",
    "for i, (model, data) in enumerate(results.items()):\n",
    "\n",
    "    # Plot the confusion matrix\n",
    "    cm=confusion_matrix(data_dict['Testing labels']['efs'], data['Testing predictions'], normalize='true')\n",
    "    cm_disp=ConfusionMatrixDisplay(confusion_matrix=cm)\n",
    "    _=cm_disp.plot(ax=axs[i])\n",
    "\n",
    "    axs[i].set_title(model)\n",
    "    axs[i].set_xlabel('Predicted EFS')\n",
    "    axs[i].set_ylabel('True EFS')\n",
    "\n",
    "fig.tight_layout()\n",
    "fig.show()"
   ]
  }
 ],
 "metadata": {
  "kernelspec": {
   "display_name": ".venv",
   "language": "python",
   "name": "python3"
  },
  "language_info": {
   "codemirror_mode": {
    "name": "ipython",
    "version": 3
   },
   "file_extension": ".py",
   "mimetype": "text/x-python",
   "name": "python",
   "nbconvert_exporter": "python",
   "pygments_lexer": "ipython3",
   "version": "3.10.16"
  }
 },
 "nbformat": 4,
 "nbformat_minor": 2
}
