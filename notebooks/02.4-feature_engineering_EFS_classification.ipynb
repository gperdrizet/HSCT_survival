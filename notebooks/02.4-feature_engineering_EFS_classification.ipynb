{
 "cells": [
  {
   "cell_type": "markdown",
   "metadata": {},
   "source": [
    "# HSCT survival: classification\n",
    "\n",
    "## Notebook set-up"
   ]
  },
  {
   "cell_type": "code",
   "execution_count": 1,
   "metadata": {},
   "outputs": [],
   "source": [
    "import pickle\n",
    "import xgboost as xgb\n",
    "import numpy as np\n",
    "import pandas as pd\n",
    "import matplotlib.pyplot as plt\n",
    "from sklearn.preprocessing import PowerTransformer\n",
    "from sklearn.metrics import confusion_matrix, ConfusionMatrixDisplay\n",
    "\n",
    "import configuration as config\n",
    "import functions.helper as helper_funcs\n",
    "\n",
    "pd.set_option('display.max_rows', 500)\n",
    "gpu=None\n",
    "notebook_num='02.4'\n",
    "dataset='Binary target encoded, power transformed'\n",
    "\n",
    "# Input files\n",
    "datasets_definitions_file=f'{config.DATA_PATH}/processed/01.2-dataset_definitions.pkl'\n",
    "coxph_survival_file=f'{config.PROCESSED_DATA}/02.1-coxPH_survival.pkl'\n",
    "weibullaft_survival_file=f'{config.PROCESSED_DATA}/02.2-weibullAFT_survival.pkl'\n",
    "kld_features_file=f'{config.PROCESSED_DATA}/02.3-kld_survival.pkl'\n",
    "\n",
    "# Output files\n",
    "\n",
    "# EFS+/- split regression results\n",
    "efs_split_regression_results_file=f'{config.RESULTS}/{notebook_num}-efs_split_regression_results.pkl'\n",
    "\n",
    "# Classifier optimization results\n",
    "classification_optimization_results_file=f'{config.RESULTS}/{notebook_num}-classifier_optimization_results.pkl'\n",
    "\n",
    "# Classification model\n",
    "classification_model_file=f'{config.MODELS_PATH}/{notebook_num}-EFS_classifier_model.pkl'\n",
    "\n",
    "test_split_regression=False\n",
    "optimize_classification=False"
   ]
  },
  {
   "cell_type": "markdown",
   "metadata": {},
   "source": [
    "## 1. Data loading\n",
    "\n",
    "### 1.1. Base data"
   ]
  },
  {
   "cell_type": "code",
   "execution_count": 2,
   "metadata": {},
   "outputs": [
    {
     "name": "stdout",
     "output_type": "stream",
     "text": [
      "Datasets:\n",
      "\n",
      " Nominal one-hot/ordinal encoded, NANs encoded\n",
      " Nominal one-hot/ordinal encoded, NANs imputed\n",
      " All ordinal encoded, NAN encoded\n",
      " All ordinal encoded, NAN imputed\n",
      " Binary target encoded\n",
      " Binary target encoded, power transformed\n",
      " Continuous target encoded\n",
      " Continuous target encoded, power transformed\n"
     ]
    }
   ],
   "source": [
    "# Load dataset definitions\n",
    "with open(datasets_definitions_file, 'rb') as input_file:\n",
    "    datasets=pickle.load(input_file)\n",
    "\n",
    "print('Datasets:\\n')\n",
    "for description, filepath in datasets.items():\n",
    "    print(f' {description}')\n",
    "\n",
    "# Load one of the datasets\n",
    "with open(datasets[dataset], 'rb') as input_file:\n",
    "    data_dict=pickle.load(input_file)"
   ]
  },
  {
   "cell_type": "markdown",
   "metadata": {},
   "source": [
    "### 1.2. Engineered survival features"
   ]
  },
  {
   "cell_type": "code",
   "execution_count": 3,
   "metadata": {},
   "outputs": [
    {
     "name": "stdout",
     "output_type": "stream",
     "text": [
      "\n",
      "Cox PH features:\n",
      "\n",
      " Training survival: [0.4056278055594262, 0.5268635196386221, 0.6044865389556412]...\n",
      " Training partial hazard: [1.1855501051593367, 0.8419600666461521, 0.6613815539423972]...\n",
      " Testing survival: [0.6976152483397727, 0.5512646762774367, 0.11297723140314843]...\n",
      " Testing partial hazard: [0.4731161603999053, 0.7824755612330099, 2.8650321971615322]...\n",
      "\n",
      "Weibull AFT features:\n",
      "\n",
      " Training survival: [0.17806910394136086, 0.28319912385529966, 0.371136699265178]...\n",
      " Training expectation: [4.5193978241145185, 5.089191223869794, 5.576620521499309]...\n",
      " Testing survival: [0.3944160390160606, 0.32212388496738903, 0.006521187603552152]...\n",
      " Testing expectation: [0.3944160390160606, 0.32212388496738903, 0.006521187603552152]...\n"
     ]
    }
   ],
   "source": [
    "# Load Cox Proportional Hazard model features\n",
    "with open(coxph_survival_file, 'rb') as input_file:\n",
    "    coxph_features=pickle.load(input_file)\n",
    "\n",
    "print('\\nCox PH features:\\n')\n",
    "for key, value in coxph_features.items():\n",
    "    print(f' {key}: {value[:3]}...')\n",
    "\n",
    "# Load Weibull Accelerated Failure Time model features\n",
    "with open(weibullaft_survival_file, 'rb') as input_file:\n",
    "    weibullaft_features=pickle.load(input_file)\n",
    "\n",
    "print('\\nWeibull AFT features:\\n')\n",
    "for key, value in weibullaft_features.items():\n",
    "    print(f' {key}: {value[:3]}...')\n",
    "\n",
    "training_features_df=data_dict['Training features']\n",
    "training_features_df['CoxPH survival']=coxph_features['Training survival']\n",
    "training_features_df['CoxPH partial hazard']=coxph_features['Training partial hazard']\n",
    "training_features_df['WeibullAFT survival']=weibullaft_features['Training survival']\n",
    "training_features_df['WeibullAFT expectation']=weibullaft_features['Training expectation']\n",
    "\n",
    "testing_features_df=data_dict['Testing features']\n",
    "testing_features_df['CoxPH survival']=coxph_features['Testing survival']\n",
    "testing_features_df['CoxPH partial hazard']=coxph_features['Testing partial hazard']\n",
    "testing_features_df['WeibullAFT survival']=weibullaft_features['Testing survival']\n",
    "testing_features_df['WeibullAFT expectation']=weibullaft_features['Testing expectation']"
   ]
  },
  {
   "cell_type": "markdown",
   "metadata": {},
   "source": [
    "### 1.3. Kullback-Leibler divergence features"
   ]
  },
  {
   "cell_type": "code",
   "execution_count": 4,
   "metadata": {},
   "outputs": [
    {
     "name": "stdout",
     "output_type": "stream",
     "text": [
      "\n",
      "KLD features:\n",
      "\n",
      " Training CoxPH survival KLD: [0.04120921 0.17228541 0.24903048]...\n",
      " Training CoxPH partial hazard KLD: [0.03805663 0.14055711 0.19128926]...\n",
      " Training WeibullAFT survival KLD: [0.14909701 0.19449996 0.205668  ]...\n",
      " Training WeibullAFT expectation KLD: [0.07581915 0.14217066 0.17140049]...\n",
      " Testing CoxPH survival KLD: [0.32469499 0.19507051 0.0660919 ]...\n",
      " Testing CoxPH partial hazard KLD: [0.22596    0.15810889 0.06464225]...\n",
      " Testing WeibullAFT survival KLD: [0.21000693 0.20350323 0.00474342]...\n",
      " Testing WeibullAFT expectation KLD: [0. 0. 0.]...\n"
     ]
    }
   ],
   "source": [
    "# Load KLD features\n",
    "with open(kld_features_file, 'rb') as input_file:\n",
    "    kld_features=pickle.load(input_file)\n",
    "\n",
    "print('\\nKLD features:\\n')\n",
    "for key, value in kld_features.items():\n",
    "    print(f' {key}: {value[:3]}...')\n",
    "\n",
    "training_features_df['CoxPH survival KLD']=kld_features['Training CoxPH survival KLD']\n",
    "training_features_df['CoxPH partial hazard KLD']=kld_features['Training CoxPH partial hazard KLD']\n",
    "training_features_df['WeibullAFT survival KLD']=kld_features['Training WeibullAFT survival KLD']\n",
    "training_features_df['WeibullAFT expectation KLD']=kld_features['Training WeibullAFT expectation KLD']\n",
    "testing_features_df['CoxPH survival KLD']=kld_features['Testing CoxPH survival KLD']\n",
    "testing_features_df['CoxPH partial hazard KLD']=kld_features['Testing CoxPH partial hazard KLD']\n",
    "testing_features_df['WeibullAFT survival KLD']=kld_features['Testing WeibullAFT survival KLD']\n",
    "testing_features_df['WeibullAFT expectation KLD']=kld_features['Testing WeibullAFT expectation KLD']"
   ]
  },
  {
   "cell_type": "markdown",
   "metadata": {},
   "source": [
    "### 1.4. Feature transformation"
   ]
  },
  {
   "cell_type": "code",
   "execution_count": 5,
   "metadata": {},
   "outputs": [],
   "source": [
    "transformer=PowerTransformer()\n",
    "transformer.fit(training_features_df)\n",
    "transformed_training_features=transformer.transform(training_features_df)\n",
    "transformed_testing_features=transformer.transform(testing_features_df)\n",
    "\n",
    "training_features_df=pd.DataFrame(\n",
    "    transformed_training_features,\n",
    "    columns=data_dict['Training features'].columns\n",
    ")\n",
    "\n",
    "testing_features_df=pd.DataFrame(\n",
    "    transformed_testing_features,\n",
    "    columns=data_dict['Testing features'].columns\n",
    ")"
   ]
  },
  {
   "cell_type": "markdown",
   "metadata": {},
   "source": [
    "### 1.5. Labels"
   ]
  },
  {
   "cell_type": "code",
   "execution_count": 6,
   "metadata": {},
   "outputs": [
    {
     "data": {
      "image/png": "[encoded data removed]",
      "text/plain": [
       "<Figure size 640x480 with 1 Axes>"
      ]
     },
     "metadata": {},
     "output_type": "display_data"
    }
   ],
   "source": [
    "training_labels_df=data_dict['Training labels']\n",
    "training_labels_df['efs_time']=np.log(training_labels_df['efs_time'])\n",
    "\n",
    "testing_labels_df=data_dict['Testing labels']\n",
    "testing_labels_df['efs_time']=np.log(testing_labels_df['efs_time'])\n",
    "\n",
    "plt.title('Training label distribution')\n",
    "plt.hist(training_labels_df['efs_time'], color='black', bins=30)\n",
    "plt.xlabel('EFA time log(months)')\n",
    "plt.ylabel('Participants')\n",
    "plt.show()"
   ]
  },
  {
   "cell_type": "markdown",
   "metadata": {},
   "source": [
    "### 1.6. Race group & ID"
   ]
  },
  {
   "cell_type": "code",
   "execution_count": 7,
   "metadata": {},
   "outputs": [],
   "source": [
    "training_race_groups=data_dict['Training race group']\n",
    "training_ids=data_dict['Training IDs']\n",
    "\n",
    "testing_race_groups=data_dict['Testing race group']\n",
    "testing_ids=data_dict['Testing IDs']"
   ]
  },
  {
   "cell_type": "markdown",
   "metadata": {},
   "source": [
    "## 2. Does knowing the EFS label give better regression results?\n",
    "\n",
    "### 2.1. Dataset preparation"
   ]
  },
  {
   "cell_type": "code",
   "execution_count": 8,
   "metadata": {},
   "outputs": [],
   "source": [
    "if test_split_regression == True:\n",
    "\n",
    "    # Combine and split the data by EFS label\n",
    "    training_features_df['efs']=training_labels_df['efs']\n",
    "    training_features_df['race_group']=training_race_groups\n",
    "    training_features_df['ID']=training_ids\n",
    "\n",
    "    training_efs_zero_features_df=training_features_df[training_features_df['efs'] == 0].copy()\n",
    "    training_efs_zero_race_groups=training_efs_zero_features_df['race_group']\n",
    "    training_efs_zero_ids=training_efs_zero_features_df['ID']\n",
    "\n",
    "    training_efs_one_features_df=training_features_df[training_features_df['efs'] == 1].copy()\n",
    "    training_efs_one_race_groups=training_efs_one_features_df['race_group']\n",
    "    training_efs_one_ids=training_efs_one_features_df['ID']\n",
    "\n",
    "    training_features_df.drop(['efs','race_group','ID'], inplace=True, axis=1)\n",
    "    training_efs_zero_features_df.drop(['efs','race_group','ID'], inplace=True, axis=1)\n",
    "    training_efs_one_features_df.drop(['efs','race_group','ID'], inplace=True, axis=1)\n",
    "\n",
    "    training_efs_zero_labels_df=training_labels_df[training_labels_df['efs'] == 0].copy()\n",
    "    training_efs_one_labels_df=training_labels_df[training_labels_df['efs'] == 1].copy()\n",
    "\n",
    "    testing_features_df['efs']=testing_labels_df['efs']\n",
    "    testing_features_df['race_group']=testing_race_groups\n",
    "    testing_features_df['ID']=testing_ids\n",
    "\n",
    "    testing_efs_zero_features_df=testing_features_df[testing_features_df['efs'] == 0].copy()\n",
    "    testing_efs_zero_race_groups=testing_efs_zero_features_df['race_group']\n",
    "    testing_efs_zero_ids=testing_efs_zero_features_df['ID']\n",
    "\n",
    "    testing_efs_one_features_df=testing_features_df[testing_features_df['efs'] == 1].copy()\n",
    "    testing_efs_one_race_groups=testing_efs_one_features_df['race_group']\n",
    "    testing_efs_one_ids=testing_efs_one_features_df['ID']\n",
    "\n",
    "    testing_features_df.drop(['efs','race_group','ID'], inplace=True, axis=1)\n",
    "    testing_efs_zero_features_df.drop(['efs','race_group','ID'], inplace=True, axis=1)\n",
    "    testing_efs_one_features_df.drop(['efs','race_group','ID'], inplace=True, axis=1)\n",
    "\n",
    "    testing_efs_zero_labels_df=testing_labels_df[testing_labels_df['efs'] == 0].copy()\n",
    "    testing_efs_one_labels_df=testing_labels_df[testing_labels_df['efs'] == 1].copy()\n",
    "\n",
    "    split_datasets={\n",
    "        'Combined':{\n",
    "            'Training features': training_features_df,\n",
    "            'Training labels': training_labels_df,\n",
    "            'Training race groups': training_race_groups,\n",
    "            'Training IDs': training_ids,\n",
    "            'Testing features': testing_features_df,\n",
    "            'Testing labels': testing_labels_df,\n",
    "            'Testing race groups': testing_race_groups,\n",
    "            'Testing IDs': testing_ids\n",
    "        },\n",
    "        'EFS 0': {\n",
    "            'Training features': training_efs_zero_features_df,\n",
    "            'Training labels': training_efs_zero_labels_df,\n",
    "            'Training race groups': training_efs_zero_race_groups,\n",
    "            'Training IDs': training_efs_zero_ids,\n",
    "            'Testing features': testing_efs_zero_features_df,\n",
    "            'Testing labels': testing_efs_zero_labels_df,\n",
    "            'Testing race groups': testing_efs_zero_race_groups,\n",
    "            'Testing IDs': testing_efs_zero_ids\n",
    "        },\n",
    "        'EFS 1': {\n",
    "            'Training features': training_efs_one_features_df,\n",
    "            'Training labels': training_efs_one_labels_df,\n",
    "            'Training race groups': training_efs_one_race_groups,\n",
    "            'Training IDs': training_efs_one_ids,\n",
    "            'Testing features': testing_efs_one_features_df,\n",
    "            'Testing labels': testing_efs_one_labels_df,\n",
    "            'Testing race groups': testing_efs_one_race_groups,\n",
    "            'Testing IDs': testing_efs_one_ids\n",
    "        }\n",
    "    }"
   ]
  },
  {
   "cell_type": "markdown",
   "metadata": {},
   "source": [
    "### 2.2. XGBoost regression"
   ]
  },
  {
   "cell_type": "code",
   "execution_count": 9,
   "metadata": {},
   "outputs": [],
   "source": [
    "if test_split_regression == True:\n",
    "\n",
    "    hyperparameters={\n",
    "        'objective': 'reg:squarederror',\n",
    "        'eval_metric': 'rmse',\n",
    "        'seed': 315,\n",
    "        'learning_rate': 0.01,\n",
    "        'max_depth': 6,\n",
    "        'gamma': 0.01,\n",
    "        'subsample': 0.5\n",
    "    }\n",
    "\n",
    "    if gpu != None:\n",
    "        hyperparameters['gpu_id']=gpu\n",
    "        hyperparameters['tree_method']='gpu_hist'\n",
    "\n",
    "    regression_predictions={\n",
    "        'Training':{},\n",
    "        'Testing': {}\n",
    "    }\n",
    "\n",
    "    training_scoring_results={\n",
    "        'Model': [],\n",
    "        'RMSE': [],\n",
    "        'C-index': [],\n",
    "        'Stratified C-index': []\n",
    "    }\n",
    "\n",
    "    testing_scoring_results={\n",
    "        'Model': [],\n",
    "        'RMSE': [],\n",
    "        'C-index': [],\n",
    "        'Stratified C-index': []\n",
    "    }\n",
    "\n",
    "    # Loop on the datasets\n",
    "    for dataset, datasets in split_datasets.items():\n",
    "\n",
    "        print(dataset)\n",
    "\n",
    "        dtraining=xgb.DMatrix(\n",
    "            datasets['Training features'],\n",
    "            label=datasets['Training labels']['efs_time']\n",
    "        )\n",
    "        dtesting=xgb.DMatrix(\n",
    "            datasets['Testing features'],\n",
    "            label=datasets['Testing labels']['efs_time']\n",
    "        )\n",
    "\n",
    "        tree_model=xgb.train(\n",
    "            hyperparameters,\n",
    "            dtraining,\n",
    "            num_boost_round=1000,\n",
    "            evals=[(dtesting, 'testing')],\n",
    "            early_stopping_rounds=100,\n",
    "            verbose_eval=0\n",
    "        )\n",
    "\n",
    "        # Make training predictions\n",
    "        predictions=tree_model.predict(dtraining)\n",
    "        regression_predictions['Training'][dataset]=predictions\n",
    "\n",
    "        # Make testing predictions\n",
    "        predictions=tree_model.predict(dtesting)\n",
    "        regression_predictions['Testing'][dataset]=predictions"
   ]
  },
  {
   "cell_type": "markdown",
   "metadata": {},
   "source": [
    "### 2.4. Results"
   ]
  },
  {
   "cell_type": "code",
   "execution_count": 11,
   "metadata": {},
   "outputs": [],
   "source": [
    "if test_split_regression == True:\n",
    "    split_predictions=list(regression_predictions['Testing']['EFS 0']) + list(regression_predictions['Testing']['EFS 1']),\n",
    "    split_labels=list(split_datasets['EFS 0']['Testing labels']['efs_time']) + list(split_datasets['EFS 1']['Testing labels']['efs_time']),\n",
    "    split_efs=list(split_datasets['EFS 0']['Testing labels']['efs']) + list(split_datasets['EFS 1']['Testing labels']['efs']),\n",
    "    split_race_group=list(split_datasets['EFS 0']['Testing race groups']) + list(split_datasets['EFS 1']['Testing race groups']),\n",
    "    split_id=list(split_datasets['EFS 0']['Testing IDs']) + list(split_datasets['EFS 1']['Testing IDs'])\n",
    "\n",
    "    scoring_results=helper_funcs.score_predictions(\n",
    "        'Combined',\n",
    "        regression_predictions['Testing']['Combined'],\n",
    "        split_datasets['Combined']['Testing labels']['efs_time'].values,\n",
    "        split_datasets['Combined']['Testing labels']['efs'].values,\n",
    "        split_datasets['Combined']['Testing race groups'],\n",
    "        split_datasets['Combined']['Testing IDs']\n",
    "    )\n",
    "\n",
    "    scoring_results=helper_funcs.score_predictions(\n",
    "        'Split',\n",
    "        np.array(split_predictions).flatten(),\n",
    "        np.array(split_labels).flatten(),\n",
    "        np.array(split_efs).flatten(),\n",
    "        np.array(split_race_group).flatten(),\n",
    "        np.array(split_id).flatten(),\n",
    "        results=scoring_results\n",
    "    )\n",
    "\n",
    "    scoring_results_df=pd.DataFrame(scoring_results)\n",
    "    print(f'\\n{scoring_results_df.head()}')\n",
    "\n",
    "    fig, axs=plt.subplots(1,2, figsize=(9,4))\n",
    "    axs=axs.flatten()\n",
    "\n",
    "    axs[0].set_title(f'Winning model combined testing data')\n",
    "    axs[0].scatter(\n",
    "        split_datasets['Combined']['Testing labels']['efs_time'].values,\n",
    "        regression_predictions['Testing']['Combined'], \n",
    "        color='black',\n",
    "        s=0.2\n",
    "    )\n",
    "\n",
    "    axs[0].set_xlabel('True EFS time')\n",
    "    axs[0].set_ylabel('Predicted EFS time')\n",
    "\n",
    "    axs[1].set_title(f'Winning models split testing data')\n",
    "    axs[1].scatter(\n",
    "        split_datasets['EFS 0']['Testing labels']['efs_time'],\n",
    "        regression_predictions['Testing']['EFS 0'],\n",
    "        s=0.2,\n",
    "        color='black',\n",
    "        label='EFS 0'\n",
    "    )\n",
    "    axs[1].scatter(\n",
    "        split_datasets['EFS 1']['Testing labels']['efs_time'],\n",
    "        regression_predictions['Testing']['EFS 1'],\n",
    "        s=0.2,\n",
    "        color='firebrick',\n",
    "        label='EFS 1'\n",
    "    )\n",
    "    axs[1].set_xlabel('True EFS time')\n",
    "    axs[1].set_ylabel('Predicted EFS time')\n",
    "    axs[1].legend(loc='upper left',markerscale=10)\n",
    "\n",
    "    fig.tight_layout()\n",
    "    fig.show()"
   ]
  },
  {
   "cell_type": "markdown",
   "metadata": {},
   "source": [
    "## 3. Classification\n",
    "\n",
    "### 3.1. XGBoost hyperparameter optimization"
   ]
  },
  {
   "cell_type": "code",
   "execution_count": 12,
   "metadata": {},
   "outputs": [
    {
     "name": "stdout",
     "output_type": "stream",
     "text": [
      "CPU times: user 5 μs, sys: 1 μs, total: 6 μs\n",
      "Wall time: 10.7 μs\n"
     ]
    }
   ],
   "source": [
    "%%time\n",
    "\n",
    "if optimize_classification == True:\n",
    "\n",
    "    dtraining=xgb.DMatrix(training_features_df, label=training_labels_df['efs'])\n",
    "    dtesting=xgb.DMatrix(testing_features_df, label=testing_labels_df['efs'])\n",
    "\n",
    "    # Calculated class weighting\n",
    "    class_weight=(len(training_labels_df) - sum(training_labels_df['efs'])) / sum(training_labels_df['efs'])\n",
    "\n",
    "    # Define the hyperparameter search space\n",
    "    search_space={\n",
    "        'objective': ['binary:logistic'],\n",
    "        'eval_metric': ['logloss'],\n",
    "        'gpu_id': [gpu],\n",
    "        'tree_method': ['gpu_hist'],\n",
    "        'scale_pos_weight': [class_weight],\n",
    "        'seed': [315],\n",
    "        'learning_rate': [0.005,0.01],\n",
    "        'max_depth': [4,6],\n",
    "        'gamma': [0.01,0.02],\n",
    "        'subsample': [0.5,0.6]\n",
    "    }\n",
    "\n",
    "    results_df=helper_funcs.xgb_hyperparameter_search(\n",
    "        search_space,\n",
    "        training_features_df,\n",
    "        training_labels_df['efs']\n",
    "    )\n",
    "\n",
    "    winning_hyperparameters=dict(results_df.iloc[-1]['Hyperparameters'])\n",
    "    optimization_results['Winning hyperparameters']=winning_hyperparameters\n",
    "    \n",
    "    for parameter, value in winning_hyperparameters.items():\n",
    "        print(f' {parameter}: {value}')"
   ]
  },
  {
   "cell_type": "markdown",
   "metadata": {},
   "source": [
    "```text\n",
    " objective: binary:logistic\n",
    " eval_metric: logloss\n",
    " gpu_id: 0\n",
    " tree_method: gpu_hist\n",
    " scale_pos_weight: 0.8549871181450129\n",
    " seed: 315\n",
    " learning_rate: 0.01\n",
    " max_depth: 6\n",
    " gamma: 0.02\n",
    " subsample: 0.6\n",
    "```"
   ]
  },
  {
   "cell_type": "code",
   "execution_count": 13,
   "metadata": {},
   "outputs": [],
   "source": [
    "# Calculated class weighting\n",
    "class_weight=(len(training_labels_df) - sum(training_labels_df['efs'])) / sum(training_labels_df['efs'])\n",
    "\n",
    "hyperparameters={\n",
    "    'objective': 'binary:logistic',\n",
    "    'eval_metric': 'logloss',\n",
    "    'seed': 315,\n",
    "    'scale_pos_weight': class_weight,\n",
    "    'learning_rate': 0.01,\n",
    "    'max_depth': 6,\n",
    "    'gamma': 0.02,\n",
    "    'subsample': 0.6\n",
    "}\n",
    "\n",
    "if gpu != None:\n",
    "    hyperparameters['gpu_id']=gpu\n",
    "    hyperparameters['tree_method']='gpu_hist'\n",
    "\n",
    "dtraining=xgb.DMatrix(\n",
    "    training_features_df,\n",
    "    label=training_labels_df['efs']\n",
    ")\n",
    "dtesting=xgb.DMatrix(\n",
    "    testing_features_df,\n",
    "    label=testing_labels_df['efs']\n",
    ")\n",
    "\n",
    "tree_model=xgb.train(\n",
    "    hyperparameters,\n",
    "    dtraining,\n",
    "    num_boost_round=1000,\n",
    "    evals=[(dtesting, 'testing')],\n",
    "    early_stopping_rounds=100,\n",
    "    verbose_eval=0\n",
    ")\n",
    "\n",
    "# Make training predictions\n",
    "training_predictions=tree_model.predict(dtraining)\n",
    "\n",
    "# Make testing predictions\n",
    "testing_predictions=tree_model.predict(dtesting)\n",
    "\n",
    "# Save the model\n",
    "with open(classification_model_file, 'wb') as output_file:\n",
    "    pickle.dump(tree_model, output_file)"
   ]
  },
  {
   "cell_type": "markdown",
   "metadata": {},
   "source": [
    "### 3.2. Classification results"
   ]
  },
  {
   "cell_type": "code",
   "execution_count": 14,
   "metadata": {},
   "outputs": [
    {
     "data": {
      "image/png": "[encoded data removed]",
      "text/plain": [
       "<Figure size 800x400 with 4 Axes>"
      ]
     },
     "metadata": {},
     "output_type": "display_data"
    }
   ],
   "source": [
    "fig, axs=plt.subplots(1,2, figsize=(8,4))\n",
    "axs=axs.flatten()\n",
    "\n",
    "fig.suptitle('Tree classifier performance: hold-out test set')\n",
    "\n",
    "# Make calls with threshold\n",
    "calls=np.where(training_predictions < 0.5, 0, 1)\n",
    "\n",
    "cm=confusion_matrix(training_labels_df['efs'], calls, normalize='true')\n",
    "cm_disp=ConfusionMatrixDisplay(confusion_matrix=cm)\n",
    "_=cm_disp.plot(ax=axs[0])\n",
    "\n",
    "axs[0].set_title('Training data')\n",
    "axs[0].set_xlabel('Predicted EFS')\n",
    "axs[0].set_ylabel('True EFS')\n",
    "\n",
    "# Make calls with threshold\n",
    "calls=np.where(testing_predictions < 0.5, 0, 1)\n",
    "\n",
    "cm=confusion_matrix(testing_labels_df['efs'], calls, normalize='true')\n",
    "cm_disp=ConfusionMatrixDisplay(confusion_matrix=cm)\n",
    "_=cm_disp.plot(ax=axs[1])\n",
    "\n",
    "axs[1].set_title('Testing data')\n",
    "axs[1].set_xlabel('Predicted EFS')\n",
    "axs[1].set_ylabel('True EFS')\n",
    "\n",
    "fig.tight_layout()\n",
    "fig.show()"
   ]
  },
  {
   "cell_type": "markdown",
   "metadata": {},
   "source": [
    "### 4.4. Save learned class features "
   ]
  },
  {
   "cell_type": "code",
   "execution_count": 15,
   "metadata": {},
   "outputs": [],
   "source": [
    "# Output file\n",
    "learned_efs_file=f'{config.PROCESSED_DATA}/{notebook_num}-learned_efs.pkl'\n",
    "\n",
    "learned_efs_feature={\n",
    "    'Training efs probability': training_predictions,\n",
    "    'Testing efs probability': testing_predictions,\n",
    "}\n",
    "\n",
    "with open(learned_efs_file, 'wb') as output_file:\n",
    "    pickle.dump(learned_efs_feature, output_file)"
   ]
  }
 ],
 "metadata": {
  "kernelspec": {
   "display_name": ".venv",
   "language": "python",
   "name": "python3"
  },
  "language_info": {
   "codemirror_mode": {
    "name": "ipython",
    "version": 3
   },
   "file_extension": ".py",
   "mimetype": "text/x-python",
   "name": "python",
   "nbconvert_exporter": "python",
   "pygments_lexer": "ipython3",
   "version": "3.10.16"
  }
 },
 "nbformat": 4,
 "nbformat_minor": 2
}
