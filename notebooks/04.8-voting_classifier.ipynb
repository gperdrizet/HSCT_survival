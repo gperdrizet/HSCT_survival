{
 "cells": [
  {
   "cell_type": "markdown",
   "metadata": {},
   "source": [
    "# HSCT survival: Voting classifier\n",
    "\n",
    "## Notebook set-up"
   ]
  },
  {
   "cell_type": "code",
   "execution_count": 1,
   "metadata": {},
   "outputs": [],
   "source": [
    "import pickle\n",
    "from warnings import simplefilter\n",
    "\n",
    "import numpy as np\n",
    "import pandas as pd\n",
    "import matplotlib.pyplot as plt\n",
    "from sklearn.preprocessing import StandardScaler\n",
    "from sklearn.model_selection import cross_val_score\n",
    "from sklearn.calibration import CalibratedClassifierCV\n",
    "from sklearn.ensemble import VotingClassifier\n",
    "from sklearn.svm import SVC\n",
    "from sklearn.ensemble import RandomForestClassifier\n",
    "from sklearn.ensemble import AdaBoostClassifier\n",
    "from catboost import CatBoostClassifier\n",
    "from xgboost import XGBClassifier\n",
    "from sklearn.metrics import confusion_matrix, ConfusionMatrixDisplay\n",
    "from warnings import simplefilter\n",
    "from sklearn.exceptions import ConvergenceWarning\n",
    "\n",
    "import configuration as config\n",
    "import functions.helper as helper_funcs\n",
    "\n",
    "dataset='Binary target encoded, power transformed'\n",
    "notebook_num='04.8'\n",
    "simplefilter('ignore', category=ConvergenceWarning)\n",
    "\n",
    "# Data files\n",
    "datasets_file=f'{config.PROCESSED_DATA}/01.2-dataset_definitions.pkl'\n",
    "coxph_survival_file=f'{config.PROCESSED_DATA}/02.1-coxPH_survival.pkl'\n",
    "weibullaft_survival_file=f'{config.PROCESSED_DATA}/02.2-weibullAFT_survival.pkl'\n",
    "kld_features_file=f'{config.PROCESSED_DATA}/02.3-kld_survival.pkl'\n",
    "model_optimization_results_file=f'{config.RESULTS}/sklearn_classifier_test.pkl'\n",
    "\n",
    "# Model files\n",
    "tuned_model_file=f'{config.MODELS_PATH}/{notebook_num}-voting_EFS_classifier.pkl'\n",
    "\n",
    "# Experiment results\n",
    "hyperparameter_tuning_results=f'{config.DATA_PATH}/results/data/{notebook_num}-hyperparameter_tuning_results.csv'\n",
    "training_scores_file=f'{config.DATA_PATH}/results/data/{notebook_num}-training_scores.csv'\n",
    "testing_scores_file=f'{config.DATA_PATH}/results/data/{notebook_num}-testing_scores.csv'\n",
    "\n",
    "retune_model=True"
   ]
  },
  {
   "cell_type": "markdown",
   "metadata": {},
   "source": [
    "## 1. Load data"
   ]
  },
  {
   "cell_type": "code",
   "execution_count": 2,
   "metadata": {},
   "outputs": [
    {
     "name": "stdout",
     "output_type": "stream",
     "text": [
      "Data dictionary contains:\n",
      "\n",
      " Training features: <class 'pandas.core.frame.DataFrame'>\n",
      " Training labels: <class 'pandas.core.frame.DataFrame'>\n",
      " Training IDs: <class 'list'>\n",
      " Training race group: <class 'list'>\n",
      " Testing features: <class 'pandas.core.frame.DataFrame'>\n",
      " Testing labels: <class 'pandas.core.frame.DataFrame'>\n",
      " Testing IDs: <class 'list'>\n",
      " Testing race group: <class 'list'>\n",
      "\n",
      "Cox PH features:\n",
      "\n",
      " Training survival: <class 'list'>\n",
      " Training partial hazard: <class 'list'>\n",
      " Testing survival: <class 'list'>\n",
      " Testing partial hazard: <class 'list'>\n",
      "\n",
      "Weibull AFT features:\n",
      "\n",
      " Training survival: <class 'list'>\n",
      " Training expectation: <class 'list'>\n",
      " Testing survival: <class 'list'>\n",
      " Testing expectation: <class 'list'>\n",
      "\n",
      "KLD features:\n",
      "\n",
      " Training CoxPH survival KLD: <class 'numpy.ndarray'>\n",
      " Training CoxPH partial hazard KLD: <class 'numpy.ndarray'>\n",
      " Training WeibullAFT survival KLD: <class 'numpy.ndarray'>\n",
      " Training WeibullAFT expectation KLD: <class 'numpy.ndarray'>\n",
      " Testing CoxPH survival KLD: <class 'numpy.ndarray'>\n",
      " Testing CoxPH partial hazard KLD: <class 'numpy.ndarray'>\n",
      " Testing WeibullAFT survival KLD: <class 'numpy.ndarray'>\n",
      " Testing WeibullAFT expectation KLD: <class 'numpy.ndarray'>\n",
      "\n",
      "Model hyperparameters:\n",
      "\n",
      " Nearest Neighbors: <class 'dict'>\n",
      " Linear SVM: <class 'dict'>\n",
      " RBF SVM: <class 'dict'>\n",
      " Polynomial SVM: <class 'dict'>\n",
      " Decision Tree: <class 'dict'>\n",
      " Random Forest: <class 'dict'>\n",
      " Neural Net: <class 'dict'>\n",
      " AdaBoost: <class 'dict'>\n",
      " Naive Bayes: <class 'dict'>\n",
      " QDA: <class 'dict'>\n",
      " SGD: <class 'dict'>\n",
      " XGBoost: <class 'dict'>\n",
      " CatBoost: <class 'dict'>\n"
     ]
    }
   ],
   "source": [
    "# Read the dataset metadata\n",
    "with open(datasets_file, 'rb') as input_file:\n",
    "    datasets=pickle.load(input_file)\n",
    "\n",
    "# Load one of the datasets\n",
    "with open(datasets[dataset], 'rb') as input_file:\n",
    "    data_dict=pickle.load(input_file)\n",
    "\n",
    "print('Data dictionary contains:\\n')\n",
    "for key, value in data_dict.items():\n",
    "    print(f' {key}: {type(value)}')\n",
    "\n",
    "# Load Cox Proportional Hazard model features\n",
    "with open(coxph_survival_file, 'rb') as input_file:\n",
    "    coxph_features=pickle.load(input_file)\n",
    "\n",
    "print('\\nCox PH features:\\n')\n",
    "for key, value in coxph_features.items():\n",
    "    print(f' {key}: {type(value)}')\n",
    "\n",
    "# Load Weibull Accelerated Failure Time model features\n",
    "with open(weibullaft_survival_file, 'rb') as input_file:\n",
    "    weibullaft_features=pickle.load(input_file)\n",
    "\n",
    "print('\\nWeibull AFT features:\\n')\n",
    "for key, value in weibullaft_features.items():\n",
    "    print(f' {key}: {type(value)}')\n",
    "\n",
    "# Load KLD features\n",
    "with open(kld_features_file, 'rb') as input_file:\n",
    "    kld_features=pickle.load(input_file)\n",
    "\n",
    "print('\\nKLD features:\\n')\n",
    "for key, value in kld_features.items():\n",
    "    print(f' {key}: {type(value)}')\n",
    "\n",
    "# Load model hyperparameter tuning results\n",
    "with open(model_optimization_results_file, 'rb') as input_file:\n",
    "    model_hyperparameters=pickle.load(input_file)\n",
    "\n",
    "print('\\nModel hyperparameters:\\n')\n",
    "for key, value in model_hyperparameters.items():\n",
    "    print(f' {key}: {type(value)}')"
   ]
  },
  {
   "cell_type": "markdown",
   "metadata": {},
   "source": [
    "## 2. Data preparation\n",
    "\n",
    "### 2.1. Add survival model features"
   ]
  },
  {
   "cell_type": "code",
   "execution_count": 3,
   "metadata": {},
   "outputs": [
    {
     "data": {
      "text/html": [
       "<div>\n",
       "<style scoped>\n",
       "    .dataframe tbody tr th:only-of-type {\n",
       "        vertical-align: middle;\n",
       "    }\n",
       "\n",
       "    .dataframe tbody tr th {\n",
       "        vertical-align: top;\n",
       "    }\n",
       "\n",
       "    .dataframe thead th {\n",
       "        text-align: right;\n",
       "    }\n",
       "</style>\n",
       "<table border=\"1\" class=\"dataframe\">\n",
       "  <thead>\n",
       "    <tr style=\"text-align: right;\">\n",
       "      <th></th>\n",
       "      <th>0</th>\n",
       "      <th>1</th>\n",
       "      <th>2</th>\n",
       "      <th>3</th>\n",
       "      <th>4</th>\n",
       "    </tr>\n",
       "  </thead>\n",
       "  <tbody>\n",
       "    <tr>\n",
       "      <th>psych_disturb</th>\n",
       "      <td>-2.949030e-17</td>\n",
       "      <td>-2.949030e-17</td>\n",
       "      <td>-2.949030e-17</td>\n",
       "      <td>-2.949030e-17</td>\n",
       "      <td>1.040834e-16</td>\n",
       "    </tr>\n",
       "    <tr>\n",
       "      <th>diabetes</th>\n",
       "      <td>1.578598e-16</td>\n",
       "      <td>-4.163336e-17</td>\n",
       "      <td>-4.163336e-17</td>\n",
       "      <td>1.578598e-16</td>\n",
       "      <td>7.285839e-17</td>\n",
       "    </tr>\n",
       "    <tr>\n",
       "      <th>tbi_status</th>\n",
       "      <td>4.417244e-01</td>\n",
       "      <td>4.417244e-01</td>\n",
       "      <td>4.417244e-01</td>\n",
       "      <td>-1.025746e-01</td>\n",
       "      <td>-1.025746e-01</td>\n",
       "    </tr>\n",
       "    <tr>\n",
       "      <th>arrhythmia</th>\n",
       "      <td>-1.734723e-18</td>\n",
       "      <td>-1.734723e-18</td>\n",
       "      <td>-1.734723e-18</td>\n",
       "      <td>-1.734723e-18</td>\n",
       "      <td>1.387779e-17</td>\n",
       "    </tr>\n",
       "    <tr>\n",
       "      <th>graft_type</th>\n",
       "      <td>6.351465e-01</td>\n",
       "      <td>6.351465e-01</td>\n",
       "      <td>-1.574440e+00</td>\n",
       "      <td>6.351465e-01</td>\n",
       "      <td>-1.574440e+00</td>\n",
       "    </tr>\n",
       "    <tr>\n",
       "      <th>...</th>\n",
       "      <td>...</td>\n",
       "      <td>...</td>\n",
       "      <td>...</td>\n",
       "      <td>...</td>\n",
       "      <td>...</td>\n",
       "    </tr>\n",
       "    <tr>\n",
       "      <th>age_at_hct</th>\n",
       "      <td>3.234649e-01</td>\n",
       "      <td>1.303733e-01</td>\n",
       "      <td>-1.600331e-01</td>\n",
       "      <td>6.554360e-01</td>\n",
       "      <td>8.109253e-01</td>\n",
       "    </tr>\n",
       "    <tr>\n",
       "      <th>CoxPH survival</th>\n",
       "      <td>4.056278e-01</td>\n",
       "      <td>5.268635e-01</td>\n",
       "      <td>6.044865e-01</td>\n",
       "      <td>2.012533e-01</td>\n",
       "      <td>2.634279e-01</td>\n",
       "    </tr>\n",
       "    <tr>\n",
       "      <th>CoxPH partial hazard</th>\n",
       "      <td>1.185550e+00</td>\n",
       "      <td>8.419601e-01</td>\n",
       "      <td>6.613816e-01</td>\n",
       "      <td>2.106420e+00</td>\n",
       "      <td>1.752700e+00</td>\n",
       "    </tr>\n",
       "    <tr>\n",
       "      <th>WeibullAFT survival</th>\n",
       "      <td>1.780691e-01</td>\n",
       "      <td>2.831991e-01</td>\n",
       "      <td>3.711367e-01</td>\n",
       "      <td>5.227801e-02</td>\n",
       "      <td>7.820002e-02</td>\n",
       "    </tr>\n",
       "    <tr>\n",
       "      <th>WeibullAFT expectation</th>\n",
       "      <td>4.519398e+00</td>\n",
       "      <td>5.089191e+00</td>\n",
       "      <td>5.576621e+00</td>\n",
       "      <td>3.687378e+00</td>\n",
       "      <td>3.898290e+00</td>\n",
       "    </tr>\n",
       "  </tbody>\n",
       "</table>\n",
       "<p>61 rows × 5 columns</p>\n",
       "</div>"
      ],
      "text/plain": [
       "                                   0             1             2  \\\n",
       "psych_disturb          -2.949030e-17 -2.949030e-17 -2.949030e-17   \n",
       "diabetes                1.578598e-16 -4.163336e-17 -4.163336e-17   \n",
       "tbi_status              4.417244e-01  4.417244e-01  4.417244e-01   \n",
       "arrhythmia             -1.734723e-18 -1.734723e-18 -1.734723e-18   \n",
       "graft_type              6.351465e-01  6.351465e-01 -1.574440e+00   \n",
       "...                              ...           ...           ...   \n",
       "age_at_hct              3.234649e-01  1.303733e-01 -1.600331e-01   \n",
       "CoxPH survival          4.056278e-01  5.268635e-01  6.044865e-01   \n",
       "CoxPH partial hazard    1.185550e+00  8.419601e-01  6.613816e-01   \n",
       "WeibullAFT survival     1.780691e-01  2.831991e-01  3.711367e-01   \n",
       "WeibullAFT expectation  4.519398e+00  5.089191e+00  5.576621e+00   \n",
       "\n",
       "                                   3             4  \n",
       "psych_disturb          -2.949030e-17  1.040834e-16  \n",
       "diabetes                1.578598e-16  7.285839e-17  \n",
       "tbi_status             -1.025746e-01 -1.025746e-01  \n",
       "arrhythmia             -1.734723e-18  1.387779e-17  \n",
       "graft_type              6.351465e-01 -1.574440e+00  \n",
       "...                              ...           ...  \n",
       "age_at_hct              6.554360e-01  8.109253e-01  \n",
       "CoxPH survival          2.012533e-01  2.634279e-01  \n",
       "CoxPH partial hazard    2.106420e+00  1.752700e+00  \n",
       "WeibullAFT survival     5.227801e-02  7.820002e-02  \n",
       "WeibullAFT expectation  3.687378e+00  3.898290e+00  \n",
       "\n",
       "[61 rows x 5 columns]"
      ]
     },
     "execution_count": 3,
     "metadata": {},
     "output_type": "execute_result"
    }
   ],
   "source": [
    "training_features_df=data_dict['Training features']\n",
    "training_features_df['CoxPH survival']=coxph_features['Training survival']\n",
    "training_features_df['CoxPH partial hazard']=coxph_features['Training partial hazard']\n",
    "training_features_df['WeibullAFT survival']=weibullaft_features['Training survival']\n",
    "training_features_df['WeibullAFT expectation']=weibullaft_features['Training expectation']\n",
    "\n",
    "testing_features_df=data_dict['Testing features']\n",
    "testing_features_df['CoxPH survival']=coxph_features['Testing survival']\n",
    "testing_features_df['CoxPH partial hazard']=coxph_features['Testing partial hazard']\n",
    "testing_features_df['WeibullAFT survival']=weibullaft_features['Testing survival']\n",
    "testing_features_df['WeibullAFT expectation']=weibullaft_features['Testing expectation']\n",
    "\n",
    "training_features_df.head().transpose()"
   ]
  },
  {
   "cell_type": "markdown",
   "metadata": {},
   "source": [
    "### 2.3. Add KLD features"
   ]
  },
  {
   "cell_type": "code",
   "execution_count": 4,
   "metadata": {},
   "outputs": [],
   "source": [
    "training_features_df['CoxPH survival KLD']=kld_features['Training CoxPH survival KLD']\n",
    "training_features_df['CoxPH partial hazard KLD']=kld_features['Training CoxPH partial hazard KLD']\n",
    "training_features_df['WeibullAFT survival KLD']=kld_features['Training WeibullAFT survival KLD']\n",
    "training_features_df['WeibullAFT expectation KLD']=kld_features['Training WeibullAFT expectation KLD']\n",
    "testing_features_df['CoxPH survival KLD']=kld_features['Testing CoxPH survival KLD']\n",
    "testing_features_df['CoxPH partial hazard KLD']=kld_features['Testing CoxPH partial hazard KLD']\n",
    "testing_features_df['WeibullAFT survival KLD']=kld_features['Testing WeibullAFT survival KLD']\n",
    "testing_features_df['WeibullAFT expectation KLD']=kld_features['Testing WeibullAFT expectation KLD']"
   ]
  },
  {
   "cell_type": "markdown",
   "metadata": {},
   "source": [
    "### 2.4. Standard scale features"
   ]
  },
  {
   "cell_type": "code",
   "execution_count": 5,
   "metadata": {},
   "outputs": [],
   "source": [
    "scaler=StandardScaler()\n",
    "scaler.fit(training_features_df)\n",
    "training_features_df=scaler.fit_transform(training_features_df)\n",
    "testing_features_df=scaler.fit_transform(testing_features_df)"
   ]
  },
  {
   "cell_type": "markdown",
   "metadata": {},
   "source": [
    "### 2.3. Load labels, race group and ID"
   ]
  },
  {
   "cell_type": "code",
   "execution_count": 6,
   "metadata": {},
   "outputs": [],
   "source": [
    "training_labels_df=data_dict['Training labels']\n",
    "training_labels_df['efs_time']=np.log(training_labels_df['efs_time'])\n",
    "training_race_groups=data_dict['Training race group']\n",
    "training_ids=data_dict['Training IDs']\n",
    "\n",
    "testing_labels_df=data_dict['Testing labels']\n",
    "testing_labels_df['efs_time']=np.log(testing_labels_df['efs_time'])\n",
    "testing_race_groups=data_dict['Testing race group']\n",
    "testing_ids=data_dict['Testing IDs']"
   ]
  },
  {
   "cell_type": "markdown",
   "metadata": {},
   "source": [
    "## 3. Voting classifier\n",
    "\n",
    "### 3.1. Model calibration"
   ]
  },
  {
   "cell_type": "code",
   "execution_count": null,
   "metadata": {},
   "outputs": [
    {
     "name": "stdout",
     "output_type": "stream",
     "text": [
      "Calibrating RBF SVM\n"
     ]
    },
    {
     "name": "stderr",
     "output_type": "stream",
     "text": [
      "/mnt/arkk/kaggle/HSCT_survival/.venv/lib/python3.10/site-packages/sklearn/svm/_base.py:305: ConvergenceWarning: Solver terminated early (max_iter=10000).  Consider pre-processing your data with StandardScaler or MinMaxScaler.\n",
      "  warnings.warn(\n",
      "/mnt/arkk/kaggle/HSCT_survival/.venv/lib/python3.10/site-packages/sklearn/svm/_base.py:305: ConvergenceWarning: Solver terminated early (max_iter=10000).  Consider pre-processing your data with StandardScaler or MinMaxScaler.\n",
      "  warnings.warn(\n",
      "/mnt/arkk/kaggle/HSCT_survival/.venv/lib/python3.10/site-packages/sklearn/svm/_base.py:305: ConvergenceWarning: Solver terminated early (max_iter=10000).  Consider pre-processing your data with StandardScaler or MinMaxScaler.\n",
      "  warnings.warn(\n"
     ]
    },
    {
     "name": "stdout",
     "output_type": "stream",
     "text": [
      "Calibrating Random Forest\n",
      "Calibrating AdaBoost\n",
      "Calibrating CatBoost\n",
      "Calibrating XGBoost\n"
     ]
    },
    {
     "name": "stderr",
     "output_type": "stream",
     "text": [
      "/mnt/arkk/kaggle/HSCT_survival/.venv/lib/python3.10/site-packages/xgboost/core.py:158: UserWarning: [00:12:42] WARNING: /workspace/src/learner.cc:740: \n",
      "Parameters: { \"verbose_eval\" } are not used.\n",
      "\n",
      "  warnings.warn(smsg, UserWarning)\n",
      "/mnt/arkk/kaggle/HSCT_survival/.venv/lib/python3.10/site-packages/xgboost/core.py:158: UserWarning: [00:12:42] WARNING: /workspace/src/learner.cc:740: \n",
      "Parameters: { \"verbose_eval\" } are not used.\n",
      "\n",
      "  warnings.warn(smsg, UserWarning)\n",
      "/mnt/arkk/kaggle/HSCT_survival/.venv/lib/python3.10/site-packages/xgboost/core.py:158: UserWarning: [00:12:42] WARNING: /workspace/src/learner.cc:740: \n",
      "Parameters: { \"verbose_eval\" } are not used.\n",
      "\n",
      "  warnings.warn(smsg, UserWarning)\n"
     ]
    }
   ],
   "source": [
    "models={\n",
    "    'RBF SVM':SVC(kernel='rbf', class_weight='balanced'),\n",
    "    'Random Forest':RandomForestClassifier(class_weight='balanced', n_jobs=1),\n",
    "    'AdaBoost':AdaBoostClassifier(),\n",
    "    'CatBoost':CatBoostClassifier(thread_count=1, verbose=0),\n",
    "    'XGBoost':XGBClassifier(n_jobs=1)\n",
    "}\n",
    "\n",
    "for model_name, model in models.items():\n",
    "    print(f'Calibrating {model_name}')\n",
    "    hyperparameters=model_hyperparameters[model_name]\n",
    "    model.set_params(**hyperparameters)\n",
    "    calibrated_model=CalibratedClassifierCV(model, cv=3, n_jobs=-1)\n",
    "    calibrated_model.fit(training_features_df, training_labels_df['efs'])\n",
    "    models[model_name]=calibrated_model"
   ]
  },
  {
   "cell_type": "markdown",
   "metadata": {},
   "source": [
    "### 3.2. Cross-validation"
   ]
  },
  {
   "cell_type": "code",
   "execution_count": 8,
   "metadata": {},
   "outputs": [
    {
     "name": "stderr",
     "output_type": "stream",
     "text": [
      "[00:12:44] WARNING: /workspace/src/learner.cc:740: \n",
      "Parameters: { \"verbose_eval\" } are not used.\n",
      "\n",
      "[00:12:44] WARNING: /workspace/src/learner.cc:740: \n",
      "Parameters: { \"verbose_eval\" } are not used.\n",
      "\n",
      "[00:12:44] WARNING: /workspace/src/learner.cc:740: \n",
      "Parameters: { \"verbose_eval\" } are not used.\n",
      "\n",
      "[00:12:44] WARNING: /workspace/src/learner.cc:740: \n",
      "Parameters: { \"verbose_eval\" } are not used.\n",
      "\n",
      "[00:12:45] WARNING: /workspace/src/learner.cc:740: \n",
      "Parameters: { \"verbose_eval\" } are not used.\n",
      "\n",
      "[00:12:45] WARNING: /workspace/src/learner.cc:740: \n",
      "Parameters: { \"verbose_eval\" } are not used.\n",
      "\n",
      "[00:12:45] WARNING: /workspace/src/learner.cc:740: \n",
      "Parameters: { \"verbose_eval\" } are not used.\n",
      "\n",
      "[00:12:45] WARNING: /workspace/src/learner.cc:740: \n",
      "Parameters: { \"verbose_eval\" } are not used.\n",
      "\n",
      "[00:12:45] WARNING: /workspace/src/learner.cc:740: \n",
      "Parameters: { \"verbose_eval\" } are not used.\n",
      "\n",
      "[00:12:46] WARNING: /workspace/src/learner.cc:740: \n",
      "Parameters: { \"verbose_eval\" } are not used.\n",
      "\n",
      "[00:12:46] WARNING: /workspace/src/learner.cc:740: \n",
      "Parameters: { \"verbose_eval\" } are not used.\n",
      "\n",
      "[00:12:46] WARNING: /workspace/src/learner.cc:740: \n",
      "Parameters: { \"verbose_eval\" } are not used.\n",
      "\n",
      "[00:12:46] WARNING: /workspace/src/learner.cc:740: \n",
      "Parameters: { \"verbose_eval\" } are not used.\n",
      "\n",
      "[00:12:46] WARNING: /workspace/src/learner.cc:740: \n",
      "Parameters: { \"verbose_eval\" } are not used.\n",
      "\n",
      "[00:12:46] WARNING: /workspace/src/learner.cc:740: \n",
      "Parameters: { \"verbose_eval\" } are not used.\n",
      "\n",
      "/mnt/arkk/kaggle/HSCT_survival/.venv/lib/python3.10/site-packages/sklearn/svm/_base.py:305: ConvergenceWarning: Solver terminated early (max_iter=10000).  Consider pre-processing your data with StandardScaler or MinMaxScaler.\n",
      "  warnings.warn(\n",
      "/mnt/arkk/kaggle/HSCT_survival/.venv/lib/python3.10/site-packages/sklearn/svm/_base.py:305: ConvergenceWarning: Solver terminated early (max_iter=10000).  Consider pre-processing your data with StandardScaler or MinMaxScaler.\n",
      "  warnings.warn(\n",
      "/mnt/arkk/kaggle/HSCT_survival/.venv/lib/python3.10/site-packages/sklearn/svm/_base.py:305: ConvergenceWarning: Solver terminated early (max_iter=10000).  Consider pre-processing your data with StandardScaler or MinMaxScaler.\n",
      "  warnings.warn(\n",
      "/mnt/arkk/kaggle/HSCT_survival/.venv/lib/python3.10/site-packages/sklearn/svm/_base.py:305: ConvergenceWarning: Solver terminated early (max_iter=10000).  Consider pre-processing your data with StandardScaler or MinMaxScaler.\n",
      "  warnings.warn(\n",
      "/mnt/arkk/kaggle/HSCT_survival/.venv/lib/python3.10/site-packages/sklearn/svm/_base.py:305: ConvergenceWarning: Solver terminated early (max_iter=10000).  Consider pre-processing your data with StandardScaler or MinMaxScaler.\n",
      "  warnings.warn(\n",
      "/mnt/arkk/kaggle/HSCT_survival/.venv/lib/python3.10/site-packages/sklearn/svm/_base.py:305: ConvergenceWarning: Solver terminated early (max_iter=10000).  Consider pre-processing your data with StandardScaler or MinMaxScaler.\n",
      "  warnings.warn(\n",
      "/mnt/arkk/kaggle/HSCT_survival/.venv/lib/python3.10/site-packages/sklearn/svm/_base.py:305: ConvergenceWarning: Solver terminated early (max_iter=10000).  Consider pre-processing your data with StandardScaler or MinMaxScaler.\n",
      "  warnings.warn(\n",
      "/mnt/arkk/kaggle/HSCT_survival/.venv/lib/python3.10/site-packages/sklearn/svm/_base.py:305: ConvergenceWarning: Solver terminated early (max_iter=10000).  Consider pre-processing your data with StandardScaler or MinMaxScaler.\n",
      "  warnings.warn(\n",
      "/mnt/arkk/kaggle/HSCT_survival/.venv/lib/python3.10/site-packages/sklearn/svm/_base.py:305: ConvergenceWarning: Solver terminated early (max_iter=10000).  Consider pre-processing your data with StandardScaler or MinMaxScaler.\n",
      "  warnings.warn(\n",
      "/mnt/arkk/kaggle/HSCT_survival/.venv/lib/python3.10/site-packages/sklearn/svm/_base.py:305: ConvergenceWarning: Solver terminated early (max_iter=10000).  Consider pre-processing your data with StandardScaler or MinMaxScaler.\n",
      "  warnings.warn(\n",
      "/mnt/arkk/kaggle/HSCT_survival/.venv/lib/python3.10/site-packages/sklearn/svm/_base.py:305: ConvergenceWarning: Solver terminated early (max_iter=10000).  Consider pre-processing your data with StandardScaler or MinMaxScaler.\n",
      "  warnings.warn(\n",
      "/mnt/arkk/kaggle/HSCT_survival/.venv/lib/python3.10/site-packages/sklearn/svm/_base.py:305: ConvergenceWarning: Solver terminated early (max_iter=10000).  Consider pre-processing your data with StandardScaler or MinMaxScaler.\n",
      "  warnings.warn(\n",
      "/mnt/arkk/kaggle/HSCT_survival/.venv/lib/python3.10/site-packages/sklearn/svm/_base.py:305: ConvergenceWarning: Solver terminated early (max_iter=10000).  Consider pre-processing your data with StandardScaler or MinMaxScaler.\n",
      "  warnings.warn(\n",
      "/mnt/arkk/kaggle/HSCT_survival/.venv/lib/python3.10/site-packages/sklearn/svm/_base.py:305: ConvergenceWarning: Solver terminated early (max_iter=10000).  Consider pre-processing your data with StandardScaler or MinMaxScaler.\n",
      "  warnings.warn(\n",
      "/mnt/arkk/kaggle/HSCT_survival/.venv/lib/python3.10/site-packages/sklearn/svm/_base.py:305: ConvergenceWarning: Solver terminated early (max_iter=10000).  Consider pre-processing your data with StandardScaler or MinMaxScaler.\n",
      "  warnings.warn(\n"
     ]
    },
    {
     "name": "stdout",
     "output_type": "stream",
     "text": [
      "Cross-validation accuracy: 0.684 +/- 0.005\n"
     ]
    }
   ],
   "source": [
    "calibrated_classifiers=list(zip(list(models.keys()), list(models.values())))\n",
    "\n",
    "ensemble_model=VotingClassifier(\n",
    "    estimators=calibrated_classifiers,\n",
    "    voting='soft',\n",
    "    n_jobs=-1\n",
    ")\n",
    "\n",
    "scores=cross_val_score(\n",
    "    ensemble_model,\n",
    "    training_features_df,\n",
    "    training_labels_df['efs'],\n",
    "    scoring='accuracy',\n",
    "    cv=5,\n",
    "    n_jobs=-1\n",
    ")\n",
    "\n",
    "print(f'Cross-validation accuracy: {np.mean(scores):.3f} +/- {np.std(scores):.3f}')"
   ]
  },
  {
   "cell_type": "markdown",
   "metadata": {},
   "source": [
    "### 3.3. Test set performance"
   ]
  },
  {
   "cell_type": "code",
   "execution_count": 9,
   "metadata": {},
   "outputs": [
    {
     "name": "stderr",
     "output_type": "stream",
     "text": [
      "[00:15:15] WARNING: /workspace/src/learner.cc:740: \n",
      "Parameters: { \"verbose_eval\" } are not used.\n",
      "\n",
      "[00:15:15] WARNING: /workspace/src/learner.cc:740: \n",
      "Parameters: { \"verbose_eval\" } are not used.\n",
      "\n",
      "[00:15:15] WARNING: /workspace/src/learner.cc:740: \n",
      "Parameters: { \"verbose_eval\" } are not used.\n",
      "\n",
      "[00:15:15] WARNING: /workspace/src/learner.cc:740: \n",
      "Parameters: { \"verbose_eval\" } are not used.\n",
      "\n",
      "[00:15:15] WARNING: /workspace/src/learner.cc:740: \n",
      "Parameters: { \"verbose_eval\" } are not used.\n",
      "\n",
      "[00:15:15] WARNING: /workspace/src/learner.cc:740: \n",
      "Parameters: { \"verbose_eval\" } are not used.\n",
      "\n",
      "[00:15:16] WARNING: /workspace/src/learner.cc:740: \n",
      "Parameters: { \"verbose_eval\" } are not used.\n",
      "\n",
      "[00:15:16] WARNING: /workspace/src/learner.cc:740: \n",
      "Parameters: { \"verbose_eval\" } are not used.\n",
      "\n",
      "[00:15:16] WARNING: /workspace/src/learner.cc:740: \n",
      "Parameters: { \"verbose_eval\" } are not used.\n",
      "\n"
     ]
    }
   ],
   "source": [
    "ensemble_model=VotingClassifier(\n",
    "    estimators=calibrated_classifiers,\n",
    "    voting='soft',\n",
    "    n_jobs=-1\n",
    ")\n",
    "\n",
    "calibrated_model=CalibratedClassifierCV(ensemble_model, cv=3, n_jobs=-1)\n",
    "calibrated_model.fit(training_features_df, training_labels_df['efs'])\n",
    "\n",
    "predictions=calibrated_model.predict(testing_features_df)"
   ]
  },
  {
   "cell_type": "code",
   "execution_count": 10,
   "metadata": {},
   "outputs": [
    {
     "data": {
      "image/png": "[encoded data removed]",
      "text/plain": [
       "<Figure size 640x480 with 2 Axes>"
      ]
     },
     "metadata": {},
     "output_type": "display_data"
    }
   ],
   "source": [
    "cm=confusion_matrix(testing_labels_df['efs'], predictions, normalize='true')\n",
    "cm_disp=ConfusionMatrixDisplay(confusion_matrix=cm)\n",
    "_=cm_disp.plot()"
   ]
  }
 ],
 "metadata": {
  "kernelspec": {
   "display_name": ".venv",
   "language": "python",
   "name": "python3"
  },
  "language_info": {
   "codemirror_mode": {
    "name": "ipython",
    "version": 3
   },
   "file_extension": ".py",
   "mimetype": "text/x-python",
   "name": "python",
   "nbconvert_exporter": "python",
   "pygments_lexer": "ipython3",
   "version": "3.10.16"
  }
 },
 "nbformat": 4,
 "nbformat_minor": 2
}
